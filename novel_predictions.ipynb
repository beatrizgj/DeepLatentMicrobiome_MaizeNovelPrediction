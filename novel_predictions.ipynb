{
 "cells": [
  {
   "cell_type": "markdown",
   "metadata": {},
   "source": [
    "# Prediction of Maize rhizosphere microbiome in novel ecoystems"
   ]
  },
  {
   "cell_type": "markdown",
   "metadata": {},
   "source": [
    "## Instructions to run the prediction:\n",
    "### 1.- Run the first 3 cells in a row (using \"Run\" button on the top menu)\n",
    "### 2.- Then, introduce the values you want for the environmental features (temperature, rain and plant age), using the sliders control\n",
    "### 3.- Move to the next cell, and run the remaining 4-10 cells in a row (\"Run\" button), the same as in point 1, and see the graph with your predicted microbiome\n"
   ]
  },
  {
   "cell_type": "code",
   "execution_count": 15,
   "metadata": {},
   "outputs": [],
   "source": [
    "import numpy as np\n",
    "import pandas as pd\n",
    "import tensorflow as tf\n",
    "import tensorflow.keras as keras\n",
    "from tensorflow.keras import layers\n",
    "from ipywidgets import interact, widgets\n",
    "import rpy2.rinterface"
   ]
  },
  {
   "cell_type": "code",
   "execution_count": 16,
   "metadata": {
    "pycharm": {
     "name": "#%%\n"
    }
   },
   "outputs": [],
   "source": [
    "np.set_printoptions(precision=4)\n",
    "np.set_printoptions(suppress=True)\n",
    "%reload_ext rpy2.ipython"
   ]
  },
  {
   "cell_type": "code",
   "execution_count": 17,
   "metadata": {},
   "outputs": [
    {
     "data": {
      "application/vnd.jupyter.widget-view+json": {
       "model_id": "f152e0f438ad41cc8e14d49522b8950e",
       "version_major": 2,
       "version_minor": 0
      },
      "text/plain": [
       "VBox(children=(Label(value='\\\\(\\\\textbf{Introduce environmental features values}\\\\)'), Label(value='Please, se…"
      ]
     },
     "metadata": {},
     "output_type": "display_data"
    }
   ],
   "source": [
    "a = widgets.FloatSlider(description='Temperature',min=40,max=100,value=60)\n",
    "b = widgets.FloatSlider(description='Rain (3 days)',min=0,max=5,value=1.5)\n",
    "c = widgets.IntSlider(description='Plant age',min=1,max=20,value=4)\n",
    "t0 = widgets.Label(value=r'\\(\\textbf{'+'Introduce environmental features values'+'}\\)')\n",
    "t1 = widgets.Label(value=\"Please, select the environmental features associated to the maize plant/soil to\") \n",
    "t2 = widgets.Label(value=\"what you would like to predict its rhizosphere microbiome:\")\n",
    "t = widgets.Label(value=\"(Units: temperature in ºF, rain in inches, plant age in weeks)\")\n",
    "ui = widgets.VBox([t0, t1, t2, t, a, b, c])\n",
    "\n",
    "display(ui)"
   ]
  },
  {
   "cell_type": "code",
   "execution_count": 18,
   "metadata": {},
   "outputs": [
    {
     "data": {
      "text/html": [
       "<div>\n",
       "<style scoped>\n",
       "    .dataframe tbody tr th:only-of-type {\n",
       "        vertical-align: middle;\n",
       "    }\n",
       "\n",
       "    .dataframe tbody tr th {\n",
       "        vertical-align: top;\n",
       "    }\n",
       "\n",
       "    .dataframe thead th {\n",
       "        text-align: right;\n",
       "    }\n",
       "</style>\n",
       "<table border=\"1\" class=\"dataframe\">\n",
       "  <thead>\n",
       "    <tr style=\"text-align: right;\">\n",
       "      <th></th>\n",
       "      <th>age</th>\n",
       "      <th>Temperature</th>\n",
       "      <th>Precipitation3Days</th>\n",
       "    </tr>\n",
       "    <tr>\n",
       "      <th>X.SampleID</th>\n",
       "      <th></th>\n",
       "      <th></th>\n",
       "      <th></th>\n",
       "    </tr>\n",
       "  </thead>\n",
       "  <tbody>\n",
       "    <tr>\n",
       "      <th>new01</th>\n",
       "      <td>17</td>\n",
       "      <td>75.6</td>\n",
       "      <td>2.2</td>\n",
       "    </tr>\n",
       "  </tbody>\n",
       "</table>\n",
       "</div>"
      ],
      "text/plain": [
       "            age  Temperature  Precipitation3Days\n",
       "X.SampleID                                      \n",
       "new01        17         75.6                 2.2"
      ]
     },
     "execution_count": 18,
     "metadata": {},
     "output_type": "execute_result"
    }
   ],
   "source": [
    "temp=a.value\n",
    "rain=b.value\n",
    "age=c.value\n",
    "metadata = pd.DataFrame({'X.SampleID': ['new01'], 'age': [age], 'Temperature': [temp], 'Precipitation3Days':[rain]}, \n",
    "                  columns=['X.SampleID','age','Temperature','Precipitation3Days'])\n",
    "metadata = metadata.set_index('X.SampleID')\n",
    "domain = metadata[['age',\n",
    "                   'Temperature',\n",
    "                   'Precipitation3Days']]\n",
    "domain"
   ]
  },
  {
   "cell_type": "code",
   "execution_count": 19,
   "metadata": {},
   "outputs": [],
   "source": [
    "domain_novel_samples = domain.to_numpy(dtype=np.float32)"
   ]
  },
  {
   "cell_type": "markdown",
   "metadata": {},
   "source": [
    "#### Load model"
   ]
  },
  {
   "cell_type": "code",
   "execution_count": 21,
   "metadata": {},
   "outputs": [],
   "source": [
    "decoder = tf.keras.models.load_model('Models/decoder.h5', compile=False)\n",
    "encoder_domain = tf.keras.models.load_model('Models/encoder_domain_model_latent.h5')"
   ]
  },
  {
   "cell_type": "markdown",
   "metadata": {},
   "source": [
    "#### Compute new predictions"
   ]
  },
  {
   "cell_type": "code",
   "execution_count": 22,
   "metadata": {},
   "outputs": [],
   "source": [
    "def save_predicted_otu_table(pred,sample_names,otu_names,suffix=''):\n",
    "    df_otu = pd.DataFrame(pred, index=sample_names, columns=otu_names)\n",
    "    df_otu.T.to_csv('abundances_'+suffix+'.tsv', index=True, header=True, sep='\\t')  \n",
    "    return df_otu\n",
    "\n",
    "# Input only domain (i.e. environmental features)\n",
    "pred_latent_novel_samples = encoder_domain.predict(domain_novel_samples)\n",
    "pred_domain_novel_samples = decoder.predict(pred_latent_novel_samples)\n",
    "\n",
    "# Get otu IDs\n",
    "otu = pd.read_csv('otu_column_otuids.csv', index_col=0, header=None, sep='\\t').T\n",
    "otu = otu.set_index('otuids')\n",
    "otuids = otu.columns\n",
    "\n",
    "df_pred_otu = save_predicted_otu_table(pred_domain_novel_samples,domain.index,otuids,'predicted_otus_novel_features')"
   ]
  },
  {
   "cell_type": "code",
   "execution_count": 23,
   "metadata": {},
   "outputs": [
    {
     "data": {
      "text/html": [
       "<div>\n",
       "<style scoped>\n",
       "    .dataframe tbody tr th:only-of-type {\n",
       "        vertical-align: middle;\n",
       "    }\n",
       "\n",
       "    .dataframe tbody tr th {\n",
       "        vertical-align: top;\n",
       "    }\n",
       "\n",
       "    .dataframe thead th {\n",
       "        text-align: right;\n",
       "    }\n",
       "</style>\n",
       "<table border=\"1\" class=\"dataframe\">\n",
       "  <thead>\n",
       "    <tr style=\"text-align: right;\">\n",
       "      <th></th>\n",
       "      <th>4479944</th>\n",
       "      <th>513055</th>\n",
       "      <th>519510</th>\n",
       "      <th>810959</th>\n",
       "      <th>849092</th>\n",
       "      <th>1042671</th>\n",
       "      <th>818174</th>\n",
       "      <th>585221</th>\n",
       "      <th>1033380</th>\n",
       "      <th>875704</th>\n",
       "      <th>...</th>\n",
       "      <th>966091</th>\n",
       "      <th>55354</th>\n",
       "      <th>515709</th>\n",
       "      <th>902698</th>\n",
       "      <th>591499</th>\n",
       "      <th>569066</th>\n",
       "      <th>823091</th>\n",
       "      <th>219094</th>\n",
       "      <th>961783</th>\n",
       "      <th>823633</th>\n",
       "    </tr>\n",
       "    <tr>\n",
       "      <th>X.SampleID</th>\n",
       "      <th></th>\n",
       "      <th></th>\n",
       "      <th></th>\n",
       "      <th></th>\n",
       "      <th></th>\n",
       "      <th></th>\n",
       "      <th></th>\n",
       "      <th></th>\n",
       "      <th></th>\n",
       "      <th></th>\n",
       "      <th></th>\n",
       "      <th></th>\n",
       "      <th></th>\n",
       "      <th></th>\n",
       "      <th></th>\n",
       "      <th></th>\n",
       "      <th></th>\n",
       "      <th></th>\n",
       "      <th></th>\n",
       "      <th></th>\n",
       "      <th></th>\n",
       "    </tr>\n",
       "  </thead>\n",
       "  <tbody>\n",
       "    <tr>\n",
       "      <th>new01</th>\n",
       "      <td>0.000334</td>\n",
       "      <td>8.513715e-07</td>\n",
       "      <td>0.00123</td>\n",
       "      <td>0.000007</td>\n",
       "      <td>0.003613</td>\n",
       "      <td>0.000003</td>\n",
       "      <td>0.000275</td>\n",
       "      <td>0.000001</td>\n",
       "      <td>0.000001</td>\n",
       "      <td>0.000169</td>\n",
       "      <td>...</td>\n",
       "      <td>0.000266</td>\n",
       "      <td>0.000136</td>\n",
       "      <td>0.000149</td>\n",
       "      <td>0.001325</td>\n",
       "      <td>0.000249</td>\n",
       "      <td>0.002784</td>\n",
       "      <td>0.00027</td>\n",
       "      <td>2.229224e-07</td>\n",
       "      <td>0.08835</td>\n",
       "      <td>0.000021</td>\n",
       "    </tr>\n",
       "  </tbody>\n",
       "</table>\n",
       "<p>1 rows × 717 columns</p>\n",
       "</div>"
      ],
      "text/plain": [
       "0            4479944        513055   519510    810959    849092   1042671  \\\n",
       "X.SampleID                                                                  \n",
       "new01       0.000334  8.513715e-07  0.00123  0.000007  0.003613  0.000003   \n",
       "\n",
       "0             818174    585221   1033380    875704  ...    966091     55354  \\\n",
       "X.SampleID                                          ...                       \n",
       "new01       0.000275  0.000001  0.000001  0.000169  ...  0.000266  0.000136   \n",
       "\n",
       "0             515709    902698    591499    569066   823091        219094  \\\n",
       "X.SampleID                                                                  \n",
       "new01       0.000149  0.001325  0.000249  0.002784  0.00027  2.229224e-07   \n",
       "\n",
       "0            961783    823633  \n",
       "X.SampleID                     \n",
       "new01       0.08835  0.000021  \n",
       "\n",
       "[1 rows x 717 columns]"
      ]
     },
     "execution_count": 23,
     "metadata": {},
     "output_type": "execute_result"
    }
   ],
   "source": [
    "df_pred_otu"
   ]
  },
  {
   "cell_type": "markdown",
   "metadata": {},
   "source": [
    "#### Plot new predictions"
   ]
  },
  {
   "cell_type": "code",
   "execution_count": 24,
   "metadata": {},
   "outputs": [],
   "source": [
    "%Rpush temp rain age"
   ]
  },
  {
   "cell_type": "code",
   "execution_count": 25,
   "metadata": {
    "scrolled": true
   },
   "outputs": [
    {
     "data": {
      "image/png": "[encoded data removed]"
     },
     "metadata": {},
     "output_type": "display_data"
    }
   ],
   "source": [
    "%%R\n",
    "source('Src/functionsR_plotMicrobiome.r')\n",
    "physeq_pred = build_physeq_object_otu_tax('abundances_predicted_otus_novel_features.tsv','tax_table_cleanNames.csv')\n",
    "plot_taxa_agg(physeq_pred,\"Class\",temp,rain,age)"
   ]
  },
  {
   "cell_type": "code",
   "execution_count": null,
   "metadata": {},
   "outputs": [],
   "source": []
  }
 ],
 "metadata": {
  "kernelspec": {
   "display_name": "Python 3",
   "language": "python",
   "name": "python3"
  },
  "language_info": {
   "codemirror_mode": {
    "name": "ipython",
    "version": 3
   },
   "file_extension": ".py",
   "mimetype": "text/x-python",
   "name": "python",
   "nbconvert_exporter": "python",
   "pygments_lexer": "ipython3",
   "version": "3.6.9"
  },
  "widgets": {
   "application/vnd.jupyter.widget-state+json": {
    "state": {
     "00ede11e083c48abb77276c7273607a2": {
      "model_module": "@jupyter-widgets/controls",
      "model_module_version": "1.5.0",
      "model_name": "SliderStyleModel",
      "state": {
       "description_width": ""
      }
     },
     "01a888534f8f4a74b1446c6376bae189": {
      "model_module": "@jupyter-widgets/base",
      "model_module_version": "1.2.0",
      "model_name": "LayoutModel",
      "state": {}
     },
     "0242fbefb26d45e98041007a3cb8185e": {
      "model_module": "@jupyter-widgets/controls",
      "model_module_version": "1.5.0",
      "model_name": "DescriptionStyleModel",
      "state": {
       "description_width": ""
      }
     },
     "027e55e724e64e0b9d412d695a9665cc": {
      "model_module": "@jupyter-widgets/controls",
      "model_module_version": "1.5.0",
      "model_name": "DescriptionStyleModel",
      "state": {
       "description_width": ""
      }
     },
     "049c3275e77c4cf3bbebdf092d71bd85": {
      "model_module": "@jupyter-widgets/controls",
      "model_module_version": "1.5.0",
      "model_name": "SliderStyleModel",
      "state": {
       "description_width": ""
      }
     },
     "05d27085388246a4850c43d610f4a9b9": {
      "model_module": "@jupyter-widgets/controls",
      "model_module_version": "1.5.0",
      "model_name": "IntSliderModel",
      "state": {
       "description": "Plant age",
       "layout": "IPY_MODEL_4de1f0b83605404b9bc3a6d056a8257c",
       "max": 20,
       "min": 1,
       "style": "IPY_MODEL_c42e192709d14f3e8cde917ad53500cb",
       "value": 4
      }
     },
     "066ee55f961449589a8a143b3c4d72c4": {
      "model_module": "@jupyter-widgets/controls",
      "model_module_version": "1.5.0",
      "model_name": "SliderStyleModel",
      "state": {
       "description_width": ""
      }
     },
     "07169f93495e42d8ab271e266df4bdae": {
      "model_module": "@jupyter-widgets/controls",
      "model_module_version": "1.5.0",
      "model_name": "LabelModel",
      "state": {
       "layout": "IPY_MODEL_c835a31c740542f5808c69642409c4ed",
       "style": "IPY_MODEL_f049eb5c247d4a7bb590d6e6df6c67b9",
       "value": "what you would like to predict its rhizosphere microbiome:"
      }
     },
     "08b1b17cb7634aa5a3905aef977731db": {
      "model_module": "@jupyter-widgets/base",
      "model_module_version": "1.2.0",
      "model_name": "LayoutModel",
      "state": {}
     },
     "08e1d3d3ff5042f3a80c24849a7fb4a1": {
      "model_module": "@jupyter-widgets/base",
      "model_module_version": "1.2.0",
      "model_name": "LayoutModel",
      "state": {}
     },
     "0afb13a256ef4b2a8f71a957edef14c3": {
      "model_module": "@jupyter-widgets/controls",
      "model_module_version": "1.5.0",
      "model_name": "SliderStyleModel",
      "state": {
       "description_width": ""
      }
     },
     "0b1bca74108e42aeace65a601498d4e3": {
      "model_module": "@jupyter-widgets/controls",
      "model_module_version": "1.5.0",
      "model_name": "SliderStyleModel",
      "state": {
       "description_width": ""
      }
     },
     "0c3a2e32c51d44a8aa68faf94b11e2af": {
      "model_module": "@jupyter-widgets/controls",
      "model_module_version": "1.5.0",
      "model_name": "FloatSliderModel",
      "state": {
       "description": "Rain",
       "layout": "IPY_MODEL_7917446fe8354640904c0b46a6ca65b0",
       "max": 5,
       "step": 0.1,
       "style": "IPY_MODEL_0f877ef878b24caf8767732ba279ba14",
       "value": 1.5
      }
     },
     "0c8a32a4e2be4877aa12bd8beb08300f": {
      "model_module": "@jupyter-widgets/base",
      "model_module_version": "1.2.0",
      "model_name": "LayoutModel",
      "state": {}
     },
     "0edd0bd051bd403a8983d6f1ede88015": {
      "model_module": "@jupyter-widgets/controls",
      "model_module_version": "1.5.0",
      "model_name": "FloatSliderModel",
      "state": {
       "description": "Temperature",
       "layout": "IPY_MODEL_734e2bba7e764481b27e5c18c2a83bd2",
       "min": 40,
       "step": 0.1,
       "style": "IPY_MODEL_bdb90eac33174aa084d423fe0ed66bae",
       "value": 60
      }
     },
     "0f877ef878b24caf8767732ba279ba14": {
      "model_module": "@jupyter-widgets/controls",
      "model_module_version": "1.5.0",
      "model_name": "SliderStyleModel",
      "state": {
       "description_width": ""
      }
     },
     "0f93e5a6d5054dd4bec40d9f9118bba4": {
      "model_module": "@jupyter-widgets/controls",
      "model_module_version": "1.5.0",
      "model_name": "LabelModel",
      "state": {
       "layout": "IPY_MODEL_3cec49e28f044a6a93a480ba1e8806d9",
       "style": "IPY_MODEL_69d4225bc64a44238bdb3506efc2afdf",
       "value": "(Units: temperature in ºF, rain in inches, plant age in weeks)"
      }
     },
     "102c288ed1364f1c80ec6c33d81e9501": {
      "model_module": "@jupyter-widgets/controls",
      "model_module_version": "1.5.0",
      "model_name": "DescriptionStyleModel",
      "state": {
       "description_width": ""
      }
     },
     "10b00ecc7f4342d9930b355d7d0c80d0": {
      "model_module": "@jupyter-widgets/controls",
      "model_module_version": "1.5.0",
      "model_name": "VBoxModel",
      "state": {
       "children": [
        "IPY_MODEL_1a6d50489cd04b939a87ef3462316677",
        "IPY_MODEL_194f82af1ad4487d961a1c39b030e17e",
        "IPY_MODEL_3b59996a12194ce29666860645ce18aa",
        "IPY_MODEL_6b32bf4049e24ee5bb4437b81c3339a8",
        "IPY_MODEL_5420ce5e4aef44d781cfcd81d858bb08"
       ],
       "layout": "IPY_MODEL_647c66850b7c4300ab862513ce7a39e4"
      }
     },
     "11427469659f4f948543dcf6d93984dc": {
      "model_module": "@jupyter-widgets/base",
      "model_module_version": "1.2.0",
      "model_name": "LayoutModel",
      "state": {}
     },
     "1269f07b5379413ab515619e7550f977": {
      "model_module": "@jupyter-widgets/base",
      "model_module_version": "1.2.0",
      "model_name": "LayoutModel",
      "state": {}
     },
     "12c27b02b54244dcac60ae220913028d": {
      "model_module": "@jupyter-widgets/controls",
      "model_module_version": "1.5.0",
      "model_name": "VBoxModel",
      "state": {
       "children": [
        "IPY_MODEL_c908a595239c42f980b90fd0b928b937",
        "IPY_MODEL_0c3a2e32c51d44a8aa68faf94b11e2af",
        "IPY_MODEL_823e8810ab3e4f66b3dc8cd37f2f6427"
       ],
       "layout": "IPY_MODEL_8f42199bd574400d80b3d672ce8000c2"
      }
     },
     "1383cc712d7c43e18146cd1195d06201": {
      "model_module": "@jupyter-widgets/base",
      "model_module_version": "1.2.0",
      "model_name": "LayoutModel",
      "state": {}
     },
     "145b426ed1ed4fd9a3412fa2edf7f4eb": {
      "model_module": "@jupyter-widgets/controls",
      "model_module_version": "1.5.0",
      "model_name": "DescriptionStyleModel",
      "state": {
       "description_width": ""
      }
     },
     "1485c4d06b9e4b9fbb9501adcbc15f73": {
      "model_module": "@jupyter-widgets/controls",
      "model_module_version": "1.5.0",
      "model_name": "DescriptionStyleModel",
      "state": {
       "description_width": ""
      }
     },
     "14b912fc86f0418f800518f40fb7e25d": {
      "model_module": "@jupyter-widgets/base",
      "model_module_version": "1.2.0",
      "model_name": "LayoutModel",
      "state": {}
     },
     "15975400dda04094b26cb6aabacb3e43": {
      "model_module": "@jupyter-widgets/controls",
      "model_module_version": "1.5.0",
      "model_name": "DescriptionStyleModel",
      "state": {
       "description_width": ""
      }
     },
     "15e4c91bd04c490ea814aa4ba1f64ca6": {
      "model_module": "@jupyter-widgets/controls",
      "model_module_version": "1.5.0",
      "model_name": "DescriptionStyleModel",
      "state": {
       "description_width": ""
      }
     },
     "1745b21bb9094881aa5e4355afc60c00": {
      "model_module": "@jupyter-widgets/controls",
      "model_module_version": "1.5.0",
      "model_name": "FloatSliderModel",
      "state": {
       "description": "Rain (3 days)",
       "layout": "IPY_MODEL_25791eeca18a4eb4b5a28417f30c68e7",
       "max": 5,
       "step": 0.1,
       "style": "IPY_MODEL_00ede11e083c48abb77276c7273607a2",
       "value": 1.5
      }
     },
     "174fee0f62b143dcb3fa3d56d73412ad": {
      "model_module": "@jupyter-widgets/controls",
      "model_module_version": "1.5.0",
      "model_name": "LabelModel",
      "state": {
       "layout": "IPY_MODEL_313adb2a22b147599a611f8762d64e3c",
       "style": "IPY_MODEL_1dcb9c17883345cb8bf35f11860700c5",
       "value": "Please, select the environmental features associated to the maize plant/soil to"
      }
     },
     "17c181c46de5402b8fe85d337dc0853a": {
      "model_module": "@jupyter-widgets/controls",
      "model_module_version": "1.5.0",
      "model_name": "FloatSliderModel",
      "state": {
       "description": "Temperature",
       "layout": "IPY_MODEL_0c8a32a4e2be4877aa12bd8beb08300f",
       "min": 40,
       "step": 0.1,
       "style": "IPY_MODEL_b3bc9391068140a59e499de834315c24",
       "value": 60
      }
     },
     "17c2c160bc2c4d0a89f814b4685c46d9": {
      "model_module": "@jupyter-widgets/controls",
      "model_module_version": "1.5.0",
      "model_name": "SliderStyleModel",
      "state": {
       "description_width": ""
      }
     },
     "189d43bca0df47cbaefa6f17e28ce174": {
      "model_module": "@jupyter-widgets/controls",
      "model_module_version": "1.5.0",
      "model_name": "FloatSliderModel",
      "state": {
       "description": "Temperature (ºF)",
       "layout": "IPY_MODEL_616a75225c574c3fa03b48ab5d9ef1ef",
       "min": 40,
       "step": 0.1,
       "style": "IPY_MODEL_2ed917ecc90e47ddb664f495c4f91fa7",
       "value": 60
      }
     },
     "18a9409f211746fc9768306b97191088": {
      "model_module": "@jupyter-widgets/controls",
      "model_module_version": "1.5.0",
      "model_name": "SliderStyleModel",
      "state": {
       "description_width": ""
      }
     },
     "191b73cecbd741caa71660991cc226d1": {
      "model_module": "@jupyter-widgets/controls",
      "model_module_version": "1.5.0",
      "model_name": "SliderStyleModel",
      "state": {
       "description_width": ""
      }
     },
     "194f82af1ad4487d961a1c39b030e17e": {
      "model_module": "@jupyter-widgets/controls",
      "model_module_version": "1.5.0",
      "model_name": "LabelModel",
      "state": {
       "layout": "IPY_MODEL_84bfc0e5157d4bf8bffe38c01243f239",
       "style": "IPY_MODEL_773a6f88027c4d449771d239ef6ecff0",
       "value": "what you would like to predict its rhizosphere microbiome:"
      }
     },
     "195838021c8c4a148009da3e395a0785": {
      "model_module": "@jupyter-widgets/controls",
      "model_module_version": "1.5.0",
      "model_name": "LabelModel",
      "state": {
       "layout": "IPY_MODEL_1383cc712d7c43e18146cd1195d06201",
       "style": "IPY_MODEL_793998ddbb9042f88fbb90d60ed7d615",
       "value": "Please, select the environmental features associated to the maize plant/soil to"
      }
     },
     "1a6d50489cd04b939a87ef3462316677": {
      "model_module": "@jupyter-widgets/controls",
      "model_module_version": "1.5.0",
      "model_name": "LabelModel",
      "state": {
       "layout": "IPY_MODEL_a06b91959d7b48fbb420ccc751119c0e",
       "style": "IPY_MODEL_6c5afb56755b423a92c9c4f8d2d207d9",
       "value": "Please, select the environmental features associated to the maize plant/soil to"
      }
     },
     "1c2b6b63ded84b1fa1ca904f9c421a38": {
      "model_module": "@jupyter-widgets/controls",
      "model_module_version": "1.5.0",
      "model_name": "DescriptionStyleModel",
      "state": {
       "description_width": ""
      }
     },
     "1d1d463be8624b878805f1d5254bf824": {
      "model_module": "@jupyter-widgets/controls",
      "model_module_version": "1.5.0",
      "model_name": "SliderStyleModel",
      "state": {
       "description_width": ""
      }
     },
     "1dcb9c17883345cb8bf35f11860700c5": {
      "model_module": "@jupyter-widgets/controls",
      "model_module_version": "1.5.0",
      "model_name": "DescriptionStyleModel",
      "state": {
       "description_width": ""
      }
     },
     "1e7fa93132db4849919fa1801868b027": {
      "model_module": "@jupyter-widgets/base",
      "model_module_version": "1.2.0",
      "model_name": "LayoutModel",
      "state": {}
     },
     "1ecae239cee94e9690d3fe293776a7b8": {
      "model_module": "@jupyter-widgets/controls",
      "model_module_version": "1.5.0",
      "model_name": "FloatSliderModel",
      "state": {
       "description": "Rain (3 days)",
       "layout": "IPY_MODEL_923d248a61a6437c9008b2ad6db05831",
       "max": 5,
       "step": 0.1,
       "style": "IPY_MODEL_8ee6a906aa524bbaaea66848367cefcf",
       "value": 2.8
      }
     },
     "1fb82f412af0492a8ea44fbebfdb40e2": {
      "model_module": "@jupyter-widgets/base",
      "model_module_version": "1.2.0",
      "model_name": "LayoutModel",
      "state": {}
     },
     "20146c2dd67e49b6b07265fdabf66bd2": {
      "model_module": "@jupyter-widgets/base",
      "model_module_version": "1.2.0",
      "model_name": "LayoutModel",
      "state": {}
     },
     "203d7fdc4b664b81b9e1aea5a919fb19": {
      "model_module": "@jupyter-widgets/base",
      "model_module_version": "1.2.0",
      "model_name": "LayoutModel",
      "state": {}
     },
     "2174a216abe34296a000f8626b2d4af4": {
      "model_module": "@jupyter-widgets/controls",
      "model_module_version": "1.5.0",
      "model_name": "LabelModel",
      "state": {
       "layout": "IPY_MODEL_2ed05697c4b5446899e5459e78124768",
       "style": "IPY_MODEL_98f045ad422341398d28bc739385ed66",
       "value": "what you would like to predict its rhizosphere microbiome:"
      }
     },
     "220c87bf49be47f39f52fa3e459fccdf": {
      "model_module": "@jupyter-widgets/base",
      "model_module_version": "1.2.0",
      "model_name": "LayoutModel",
      "state": {}
     },
     "23410f0537ee4aa7ae877dd067ca3edb": {
      "model_module": "@jupyter-widgets/base",
      "model_module_version": "1.2.0",
      "model_name": "LayoutModel",
      "state": {}
     },
     "23d375e8fa1d4a428c48f237589f8d2b": {
      "model_module": "@jupyter-widgets/controls",
      "model_module_version": "1.5.0",
      "model_name": "FloatSliderModel",
      "state": {
       "description": "Rain (3 days)",
       "layout": "IPY_MODEL_8dbbeb40321c4141be9ec1287e0ee33c",
       "max": 5,
       "step": 0.1,
       "style": "IPY_MODEL_ddee93d7c5b3450fbc7924ad9fbbb38f",
       "value": 1.5
      }
     },
     "24aa33d54d724fadaaf21da0492a9a29": {
      "model_module": "@jupyter-widgets/base",
      "model_module_version": "1.2.0",
      "model_name": "LayoutModel",
      "state": {}
     },
     "24e1a4b09f764cf498b1438b78865242": {
      "model_module": "@jupyter-widgets/controls",
      "model_module_version": "1.5.0",
      "model_name": "LabelModel",
      "state": {
       "layout": "IPY_MODEL_43799588bb5e438598c32efbaaa38abc",
       "style": "IPY_MODEL_d9c31b2a2b08446e9b9bd59520942093",
       "value": "Please, select the environmental features associated to the maize plant/soil to"
      }
     },
     "252c181fc53a41b0b94a37cc38479c91": {
      "model_module": "@jupyter-widgets/base",
      "model_module_version": "1.2.0",
      "model_name": "LayoutModel",
      "state": {}
     },
     "25791eeca18a4eb4b5a28417f30c68e7": {
      "model_module": "@jupyter-widgets/base",
      "model_module_version": "1.2.0",
      "model_name": "LayoutModel",
      "state": {}
     },
     "26d6085a62f74973a40527a223443eee": {
      "model_module": "@jupyter-widgets/base",
      "model_module_version": "1.2.0",
      "model_name": "LayoutModel",
      "state": {}
     },
     "277cc4816fe145dfaca9b3b04acb8b67": {
      "model_module": "@jupyter-widgets/base",
      "model_module_version": "1.2.0",
      "model_name": "LayoutModel",
      "state": {}
     },
     "27810c91d04e4411b703f73e7a9f728d": {
      "model_module": "@jupyter-widgets/base",
      "model_module_version": "1.2.0",
      "model_name": "LayoutModel",
      "state": {}
     },
     "29a6be213f544063b971380490f81ab7": {
      "model_module": "@jupyter-widgets/base",
      "model_module_version": "1.2.0",
      "model_name": "LayoutModel",
      "state": {}
     },
     "2a19ffcc377340f38b08729f6008f382": {
      "model_module": "@jupyter-widgets/controls",
      "model_module_version": "1.5.0",
      "model_name": "SliderStyleModel",
      "state": {
       "description_width": ""
      }
     },
     "2a5d60ea610049d7be5369e2d2f2641c": {
      "model_module": "@jupyter-widgets/controls",
      "model_module_version": "1.5.0",
      "model_name": "LabelModel",
      "state": {
       "layout": "IPY_MODEL_a6d070e556a64f92bf56d082552d3209",
       "style": "IPY_MODEL_77d8cdc94ba647a3b5861e940939414e",
       "value": "(Units: temperature in ºF, rain in inches, plant age in weeks)"
      }
     },
     "2a662c1559f6431d9c926ca1dedfb1e8": {
      "model_module": "@jupyter-widgets/base",
      "model_module_version": "1.2.0",
      "model_name": "LayoutModel",
      "state": {}
     },
     "2ae278bb7d384de6ba8966c18b5489f3": {
      "model_module": "@jupyter-widgets/controls",
      "model_module_version": "1.5.0",
      "model_name": "LabelModel",
      "state": {
       "layout": "IPY_MODEL_eb634bd818db43f2a4417634d8a26ac3",
       "style": "IPY_MODEL_1c2b6b63ded84b1fa1ca904f9c421a38",
       "value": "(Units: temperature in ºF, rain in inches, plant age in weeks)"
      }
     },
     "2c25f5ea3a6246e591f90f5ffd41966b": {
      "model_module": "@jupyter-widgets/controls",
      "model_module_version": "1.5.0",
      "model_name": "LabelModel",
      "state": {
       "layout": "IPY_MODEL_492fbba2a5fc456b9038efcf7cd9049f",
       "style": "IPY_MODEL_fcc52a3a0ab549f686affdb42a46361c",
       "value": "Please, select the environmental features associated to the maize plant/soil to"
      }
     },
     "2e429f453daf4bafaf52ae328dd24fe7": {
      "model_module": "@jupyter-widgets/controls",
      "model_module_version": "1.5.0",
      "model_name": "IntSliderModel",
      "state": {
       "description": "Plant age",
       "layout": "IPY_MODEL_08e1d3d3ff5042f3a80c24849a7fb4a1",
       "max": 20,
       "min": 1,
       "style": "IPY_MODEL_d26456d5609a4da38e75ed23404c1754",
       "value": 4
      }
     },
     "2e9402cc804c4b859911cd47e454dd4d": {
      "model_module": "@jupyter-widgets/controls",
      "model_module_version": "1.5.0",
      "model_name": "SliderStyleModel",
      "state": {
       "description_width": ""
      }
     },
     "2ec5867976a94f73991cf4a7f4820991": {
      "model_module": "@jupyter-widgets/controls",
      "model_module_version": "1.5.0",
      "model_name": "SliderStyleModel",
      "state": {
       "description_width": ""
      }
     },
     "2ed05697c4b5446899e5459e78124768": {
      "model_module": "@jupyter-widgets/base",
      "model_module_version": "1.2.0",
      "model_name": "LayoutModel",
      "state": {}
     },
     "2ed917ecc90e47ddb664f495c4f91fa7": {
      "model_module": "@jupyter-widgets/controls",
      "model_module_version": "1.5.0",
      "model_name": "SliderStyleModel",
      "state": {
       "description_width": ""
      }
     },
     "2ef9b67f1db849d8b8baa198a560f68b": {
      "model_module": "@jupyter-widgets/base",
      "model_module_version": "1.2.0",
      "model_name": "LayoutModel",
      "state": {}
     },
     "2fc9eabc8cb04785adc73256302fc9fd": {
      "model_module": "@jupyter-widgets/base",
      "model_module_version": "1.2.0",
      "model_name": "LayoutModel",
      "state": {}
     },
     "313adb2a22b147599a611f8762d64e3c": {
      "model_module": "@jupyter-widgets/base",
      "model_module_version": "1.2.0",
      "model_name": "LayoutModel",
      "state": {}
     },
     "313af568084d4c6ea59e0352daa772fc": {
      "model_module": "@jupyter-widgets/controls",
      "model_module_version": "1.5.0",
      "model_name": "SliderStyleModel",
      "state": {
       "description_width": ""
      }
     },
     "34025975fe3a45daba62ff9f588dd04f": {
      "model_module": "@jupyter-widgets/controls",
      "model_module_version": "1.5.0",
      "model_name": "FloatSliderModel",
      "state": {
       "description": "Temperature",
       "layout": "IPY_MODEL_3fd1a63fbb694e4cbe6157b3526c4322",
       "min": 40,
       "step": 0.1,
       "style": "IPY_MODEL_313af568084d4c6ea59e0352daa772fc",
       "value": 75.6
      }
     },
     "3423f25fd4f541fcbe92f94a01be4fea": {
      "model_module": "@jupyter-widgets/controls",
      "model_module_version": "1.5.0",
      "model_name": "VBoxModel",
      "state": {
       "children": [
        "IPY_MODEL_c58f5876c8d045eb97f19598b11f23e3",
        "IPY_MODEL_6c3e1f2cb1a8496288ae682a26ffafd4",
        "IPY_MODEL_2ae278bb7d384de6ba8966c18b5489f3",
        "IPY_MODEL_17c181c46de5402b8fe85d337dc0853a",
        "IPY_MODEL_1745b21bb9094881aa5e4355afc60c00",
        "IPY_MODEL_f3fbb263c742406294d4d5a4506c6b44"
       ],
       "layout": "IPY_MODEL_1fb82f412af0492a8ea44fbebfdb40e2"
      }
     },
     "3584b24704384b10a8dc3eda911b4772": {
      "model_module": "@jupyter-widgets/base",
      "model_module_version": "1.2.0",
      "model_name": "LayoutModel",
      "state": {}
     },
     "35f6a724b097443491f43c8c2b21ed6a": {
      "model_module": "@jupyter-widgets/base",
      "model_module_version": "1.2.0",
      "model_name": "LayoutModel",
      "state": {}
     },
     "36b49545c3a241d98098d6c43558679f": {
      "model_module": "@jupyter-widgets/controls",
      "model_module_version": "1.5.0",
      "model_name": "FloatSliderModel",
      "state": {
       "description": "Rain (3 days)",
       "layout": "IPY_MODEL_f50ddd9d432348519a83e2b674065f26",
       "max": 5,
       "step": 0.1,
       "style": "IPY_MODEL_e517007c76f64c93949346c45c0dafce",
       "value": 3.7
      }
     },
     "376015cbe6ad45498b5ac1fc71c8dd32": {
      "model_module": "@jupyter-widgets/base",
      "model_module_version": "1.2.0",
      "model_name": "LayoutModel",
      "state": {}
     },
     "3787d7d3cd55442da0415944f979d193": {
      "model_module": "@jupyter-widgets/base",
      "model_module_version": "1.2.0",
      "model_name": "LayoutModel",
      "state": {}
     },
     "38394c014e024d22b814ec23b700c98d": {
      "model_module": "@jupyter-widgets/base",
      "model_module_version": "1.2.0",
      "model_name": "LayoutModel",
      "state": {}
     },
     "38453753ccde43dba9d77ec123c63aa6": {
      "model_module": "@jupyter-widgets/base",
      "model_module_version": "1.2.0",
      "model_name": "LayoutModel",
      "state": {}
     },
     "397e4401fc614f7a94f90624d54672c3": {
      "model_module": "@jupyter-widgets/controls",
      "model_module_version": "1.5.0",
      "model_name": "DescriptionStyleModel",
      "state": {
       "description_width": ""
      }
     },
     "39c45c46287944e98193f434c1fa4fd9": {
      "model_module": "@jupyter-widgets/controls",
      "model_module_version": "1.5.0",
      "model_name": "LabelModel",
      "state": {
       "layout": "IPY_MODEL_db4fac8d4d1b470ea928e36d44cce856",
       "style": "IPY_MODEL_15975400dda04094b26cb6aabacb3e43",
       "value": "Please, select the environmental features associated to the maize plant/soil to"
      }
     },
     "3b59996a12194ce29666860645ce18aa": {
      "model_module": "@jupyter-widgets/controls",
      "model_module_version": "1.5.0",
      "model_name": "FloatSliderModel",
      "state": {
       "description": "Temperature",
       "layout": "IPY_MODEL_9d3252205f61451cba193e3f5e38f0db",
       "min": 40,
       "step": 0.1,
       "style": "IPY_MODEL_dfc1c643211a458fa85d8af28cf8c61e",
       "value": 60
      }
     },
     "3cec49e28f044a6a93a480ba1e8806d9": {
      "model_module": "@jupyter-widgets/base",
      "model_module_version": "1.2.0",
      "model_name": "LayoutModel",
      "state": {}
     },
     "3ec683f2617440b1a1cc0a79a9c430d0": {
      "model_module": "@jupyter-widgets/controls",
      "model_module_version": "1.5.0",
      "model_name": "DescriptionStyleModel",
      "state": {
       "description_width": ""
      }
     },
     "3f28284696a946d89c1144c5ff5ee092": {
      "model_module": "@jupyter-widgets/base",
      "model_module_version": "1.2.0",
      "model_name": "LayoutModel",
      "state": {}
     },
     "3f6bfb9c42e54086b97c7232443a627b": {
      "model_module": "@jupyter-widgets/controls",
      "model_module_version": "1.5.0",
      "model_name": "SliderStyleModel",
      "state": {
       "description_width": ""
      }
     },
     "3fd1a63fbb694e4cbe6157b3526c4322": {
      "model_module": "@jupyter-widgets/base",
      "model_module_version": "1.2.0",
      "model_name": "LayoutModel",
      "state": {}
     },
     "4150a18175e8436f8b4798f3d29ad49d": {
      "model_module": "@jupyter-widgets/controls",
      "model_module_version": "1.5.0",
      "model_name": "FloatSliderModel",
      "state": {
       "description": "Temperature",
       "layout": "IPY_MODEL_b1597d65eed740ce87b20bed0f19c731",
       "min": 40,
       "step": 0.1,
       "style": "IPY_MODEL_5cde167fa31d4b5f89260352ddf12fb2",
       "value": 60
      }
     },
     "429cc4aabaa04cadb41c89ab0b7f81ea": {
      "model_module": "@jupyter-widgets/controls",
      "model_module_version": "1.5.0",
      "model_name": "VBoxModel",
      "state": {
       "children": [
        "IPY_MODEL_42df7bda270b4f54b40e52d7856bd24b",
        "IPY_MODEL_a97ea190e27c4460b8c5178f1e8f966b",
        "IPY_MODEL_e12820d784454b62a5f275cedda922ce",
        "IPY_MODEL_61b9c444571c490ebe80d8c6aa87ea9d",
        "IPY_MODEL_c465681f11814070b87baccf99f1827e"
       ],
       "layout": "IPY_MODEL_24aa33d54d724fadaaf21da0492a9a29"
      }
     },
     "42df7bda270b4f54b40e52d7856bd24b": {
      "model_module": "@jupyter-widgets/controls",
      "model_module_version": "1.5.0",
      "model_name": "LabelModel",
      "state": {
       "layout": "IPY_MODEL_5c8ed7cfe6e248309e77d2bf2e092076",
       "style": "IPY_MODEL_8b700fe7b89c47fdb90c6d6f806f73b5",
       "value": "Please, select the environmental features associated to the maize plant/soil to"
      }
     },
     "43090d7e26484384a1d39bf30236d820": {
      "model_module": "@jupyter-widgets/controls",
      "model_module_version": "1.5.0",
      "model_name": "FloatSliderModel",
      "state": {
       "description": "Rain",
       "layout": "IPY_MODEL_d5fa10d0de0342ae95e53ed69803d196",
       "max": 5,
       "step": 0.1,
       "style": "IPY_MODEL_049c3275e77c4cf3bbebdf092d71bd85",
       "value": 1.5
      }
     },
     "43799588bb5e438598c32efbaaa38abc": {
      "model_module": "@jupyter-widgets/base",
      "model_module_version": "1.2.0",
      "model_name": "LayoutModel",
      "state": {}
     },
     "451ce478f8e94e5da499fce80427baa2": {
      "model_module": "@jupyter-widgets/base",
      "model_module_version": "1.2.0",
      "model_name": "LayoutModel",
      "state": {}
     },
     "45a660604ffe4e74815ee653e9f2fb8d": {
      "model_module": "@jupyter-widgets/base",
      "model_module_version": "1.2.0",
      "model_name": "LayoutModel",
      "state": {}
     },
     "470b77b46e7446628238c1fee668b627": {
      "model_module": "@jupyter-widgets/controls",
      "model_module_version": "1.5.0",
      "model_name": "IntSliderModel",
      "state": {
       "description": "Plant age",
       "layout": "IPY_MODEL_beb411fe9b5746babb8358e271c5a083",
       "max": 20,
       "min": 1,
       "style": "IPY_MODEL_87d8c9920944465fad0e6e28ff3902d7",
       "value": 4
      }
     },
     "492fbba2a5fc456b9038efcf7cd9049f": {
      "model_module": "@jupyter-widgets/base",
      "model_module_version": "1.2.0",
      "model_name": "LayoutModel",
      "state": {}
     },
     "49e8a969f1134446bddbf545c99ae3da": {
      "model_module": "@jupyter-widgets/controls",
      "model_module_version": "1.5.0",
      "model_name": "LabelModel",
      "state": {
       "layout": "IPY_MODEL_826f63e16a3349d591abf2fa14b461dc",
       "style": "IPY_MODEL_6a6633ab2cf74cb780c3cb4c61f96056",
       "value": "(Units: temperature in ºF, rain in inches, plant age in weeks)"
      }
     },
     "4a281094b47a43549783fd07a3f3b3a8": {
      "model_module": "@jupyter-widgets/controls",
      "model_module_version": "1.5.0",
      "model_name": "SliderStyleModel",
      "state": {
       "description_width": ""
      }
     },
     "4a4927a9c1cd4491a8639c64e6c8ece5": {
      "model_module": "@jupyter-widgets/controls",
      "model_module_version": "1.5.0",
      "model_name": "SliderStyleModel",
      "state": {
       "description_width": ""
      }
     },
     "4b243731cd274156b8990b695ef5e178": {
      "model_module": "@jupyter-widgets/controls",
      "model_module_version": "1.5.0",
      "model_name": "LabelModel",
      "state": {
       "layout": "IPY_MODEL_87078e9706044fd29dbeae447a3a5b94",
       "style": "IPY_MODEL_a60db921adfc443a9650b7c9d6d49775",
       "value": "what you would like to predict its rhizosphere microbiome:"
      }
     },
     "4beb848b4a4c49bb90c36a73ca7a5792": {
      "model_module": "@jupyter-widgets/controls",
      "model_module_version": "1.5.0",
      "model_name": "FloatSliderModel",
      "state": {
       "description": "Rain (3 days)",
       "layout": "IPY_MODEL_01a888534f8f4a74b1446c6376bae189",
       "max": 5,
       "step": 0.1,
       "style": "IPY_MODEL_c6cdbbb6b28a4d5484243da4560bf859",
       "value": 2.2
      }
     },
     "4c851ea855f5428482d0c9afdfb35c94": {
      "model_module": "@jupyter-widgets/controls",
      "model_module_version": "1.5.0",
      "model_name": "VBoxModel",
      "state": {
       "children": [
        "IPY_MODEL_711da349b24a42cb84fdc0694e79cb46",
        "IPY_MODEL_e135a139cddc45bc8bfc6a6b4a9b5cda",
        "IPY_MODEL_07169f93495e42d8ab271e266df4bdae",
        "IPY_MODEL_edb0429a071d430fa267e11a103f15e7",
        "IPY_MODEL_ba4bdd5177ee458b9212f2a4c86e143b",
        "IPY_MODEL_1ecae239cee94e9690d3fe293776a7b8",
        "IPY_MODEL_fa76915f633146828891914c5a01f6d3"
       ],
       "layout": "IPY_MODEL_c3f92314b5b04d5c8a661a67be5f0506"
      }
     },
     "4de1f0b83605404b9bc3a6d056a8257c": {
      "model_module": "@jupyter-widgets/base",
      "model_module_version": "1.2.0",
      "model_name": "LayoutModel",
      "state": {}
     },
     "4f02d0751c9e4315ad83fe0bddb8eee8": {
      "model_module": "@jupyter-widgets/controls",
      "model_module_version": "1.5.0",
      "model_name": "LabelModel",
      "state": {
       "layout": "IPY_MODEL_c7002a5e17074cb89a07c696d513f60d",
       "style": "IPY_MODEL_afb1aa1d60ce4c60992b291480ebc03c",
       "value": "\\(\\textbf{\\color{red} {Introduce environmental features values}}\\)"
      }
     },
     "4f1a1830364a4a1d8c8b508166811a61": {
      "model_module": "@jupyter-widgets/controls",
      "model_module_version": "1.5.0",
      "model_name": "LabelModel",
      "state": {
       "layout": "IPY_MODEL_6e744a3c307c4c7482eecb2c688b18fa",
       "style": "IPY_MODEL_69fccde6e591488ab168aeb11ae1abf2",
       "value": "\\(\\textbf{\\color{red} {Introduce environmental features values}}\\)"
      }
     },
     "50df50737eb7483f8525be509c999584": {
      "model_module": "@jupyter-widgets/base",
      "model_module_version": "1.2.0",
      "model_name": "LayoutModel",
      "state": {}
     },
     "5350406b0b634ea6b5e3de5e4a488654": {
      "model_module": "@jupyter-widgets/base",
      "model_module_version": "1.2.0",
      "model_name": "LayoutModel",
      "state": {}
     },
     "541194124c7f47a2a13199d26c5ada6d": {
      "model_module": "@jupyter-widgets/controls",
      "model_module_version": "1.5.0",
      "model_name": "DescriptionStyleModel",
      "state": {
       "description_width": ""
      }
     },
     "5420ce5e4aef44d781cfcd81d858bb08": {
      "model_module": "@jupyter-widgets/controls",
      "model_module_version": "1.5.0",
      "model_name": "IntSliderModel",
      "state": {
       "description": "Plant age",
       "layout": "IPY_MODEL_563a21baf16342d19f18bbe3d69ccfc4",
       "max": 20,
       "min": 1,
       "style": "IPY_MODEL_18a9409f211746fc9768306b97191088",
       "value": 4
      }
     },
     "54e1089ca1b346839d0d66b1ff1d827a": {
      "model_module": "@jupyter-widgets/controls",
      "model_module_version": "1.5.0",
      "model_name": "FloatSliderModel",
      "state": {
       "description": "Rain (3 days)",
       "layout": "IPY_MODEL_2fc9eabc8cb04785adc73256302fc9fd",
       "max": 5,
       "step": 0.1,
       "style": "IPY_MODEL_e86f496c2ea1441f94a562f2e2fb4f2d",
       "value": 1.5
      }
     },
     "5617187ec4dc4e3299937b94aaa9c623": {
      "model_module": "@jupyter-widgets/base",
      "model_module_version": "1.2.0",
      "model_name": "LayoutModel",
      "state": {}
     },
     "563a21baf16342d19f18bbe3d69ccfc4": {
      "model_module": "@jupyter-widgets/base",
      "model_module_version": "1.2.0",
      "model_name": "LayoutModel",
      "state": {}
     },
     "5b5a3f23bef34224974f5430603a0489": {
      "model_module": "@jupyter-widgets/controls",
      "model_module_version": "1.5.0",
      "model_name": "VBoxModel",
      "state": {
       "children": [
        "IPY_MODEL_174fee0f62b143dcb3fa3d56d73412ad",
        "IPY_MODEL_8c6b7c136d5644bfae2b1304abfd4286",
        "IPY_MODEL_189d43bca0df47cbaefa6f17e28ce174",
        "IPY_MODEL_63b8cbfd28244427b2ae66c86c3e61e2",
        "IPY_MODEL_f86ede8773a5433a8795748de3656a50"
       ],
       "layout": "IPY_MODEL_277cc4816fe145dfaca9b3b04acb8b67"
      }
     },
     "5c8ed7cfe6e248309e77d2bf2e092076": {
      "model_module": "@jupyter-widgets/base",
      "model_module_version": "1.2.0",
      "model_name": "LayoutModel",
      "state": {}
     },
     "5cc1c473b88e4b9f82ce112d844f0350": {
      "model_module": "@jupyter-widgets/controls",
      "model_module_version": "1.5.0",
      "model_name": "SliderStyleModel",
      "state": {
       "description_width": ""
      }
     },
     "5cde167fa31d4b5f89260352ddf12fb2": {
      "model_module": "@jupyter-widgets/controls",
      "model_module_version": "1.5.0",
      "model_name": "SliderStyleModel",
      "state": {
       "description_width": ""
      }
     },
     "5e2fcbf937704e74818e4b0c10522c27": {
      "model_module": "@jupyter-widgets/controls",
      "model_module_version": "1.5.0",
      "model_name": "IntSliderModel",
      "state": {
       "description": "Plant age",
       "layout": "IPY_MODEL_20146c2dd67e49b6b07265fdabf66bd2",
       "max": 20,
       "min": 1,
       "style": "IPY_MODEL_5cc1c473b88e4b9f82ce112d844f0350",
       "value": 4
      }
     },
     "5f2d4edf537c41d8bfe86dfd9f48e29d": {
      "model_module": "@jupyter-widgets/controls",
      "model_module_version": "1.5.0",
      "model_name": "IntSliderModel",
      "state": {
       "description": "Plant age",
       "layout": "IPY_MODEL_252c181fc53a41b0b94a37cc38479c91",
       "max": 20,
       "min": 1,
       "style": "IPY_MODEL_c9de60553d4149c08a9ab0f400422c00",
       "value": 17
      }
     },
     "5f7b4405172a4ccbaf7e2d782ad98ac0": {
      "model_module": "@jupyter-widgets/controls",
      "model_module_version": "1.5.0",
      "model_name": "DescriptionStyleModel",
      "state": {
       "description_width": ""
      }
     },
     "5f890dee260642a19848bf3cbbbef822": {
      "model_module": "@jupyter-widgets/controls",
      "model_module_version": "1.5.0",
      "model_name": "LabelModel",
      "state": {
       "layout": "IPY_MODEL_732becb230cd4facb43863a1b996c5d4",
       "style": "IPY_MODEL_5f7b4405172a4ccbaf7e2d782ad98ac0",
       "value": "what you would like to predict its rhizosphere microbiome:"
      }
     },
     "616a75225c574c3fa03b48ab5d9ef1ef": {
      "model_module": "@jupyter-widgets/base",
      "model_module_version": "1.2.0",
      "model_name": "LayoutModel",
      "state": {}
     },
     "6184b591f134480494f98c353ef493e5": {
      "model_module": "@jupyter-widgets/base",
      "model_module_version": "1.2.0",
      "model_name": "LayoutModel",
      "state": {}
     },
     "61b9c444571c490ebe80d8c6aa87ea9d": {
      "model_module": "@jupyter-widgets/controls",
      "model_module_version": "1.5.0",
      "model_name": "FloatSliderModel",
      "state": {
       "description": "Rain (3 days)",
       "layout": "IPY_MODEL_3787d7d3cd55442da0415944f979d193",
       "max": 5,
       "step": 0.1,
       "style": "IPY_MODEL_62c9c0074bac4150ba4b44a6029cd559",
       "value": 1.5
      }
     },
     "62c9c0074bac4150ba4b44a6029cd559": {
      "model_module": "@jupyter-widgets/controls",
      "model_module_version": "1.5.0",
      "model_name": "SliderStyleModel",
      "state": {
       "description_width": ""
      }
     },
     "63b8cbfd28244427b2ae66c86c3e61e2": {
      "model_module": "@jupyter-widgets/controls",
      "model_module_version": "1.5.0",
      "model_name": "FloatSliderModel",
      "state": {
       "description": "Rain",
       "layout": "IPY_MODEL_1269f07b5379413ab515619e7550f977",
       "max": 5,
       "step": 0.1,
       "style": "IPY_MODEL_e31e18de9d4c4214bb4706b0be7c43b2",
       "value": 1.5
      }
     },
     "647c66850b7c4300ab862513ce7a39e4": {
      "model_module": "@jupyter-widgets/base",
      "model_module_version": "1.2.0",
      "model_name": "LayoutModel",
      "state": {}
     },
     "6653b82cec8f4292b31f0decf387a070": {
      "model_module": "@jupyter-widgets/base",
      "model_module_version": "1.2.0",
      "model_name": "LayoutModel",
      "state": {}
     },
     "6974da43110545b580b93143f389278e": {
      "model_module": "@jupyter-widgets/base",
      "model_module_version": "1.2.0",
      "model_name": "LayoutModel",
      "state": {}
     },
     "69a6fffa292541afbd5b0ce18b2735e1": {
      "model_module": "@jupyter-widgets/controls",
      "model_module_version": "1.5.0",
      "model_name": "DescriptionStyleModel",
      "state": {
       "description_width": ""
      }
     },
     "69d287f568b9425f865847bb3cf232c2": {
      "model_module": "@jupyter-widgets/controls",
      "model_module_version": "1.5.0",
      "model_name": "LabelModel",
      "state": {
       "layout": "IPY_MODEL_fc8eec3397394ac0a181e2330153a12a",
       "style": "IPY_MODEL_a407d05a1f74404fb9c798518d44ade6",
       "value": "(Units: temperature in ºF, rain in inches, plant age in weeks)"
      }
     },
     "69d4225bc64a44238bdb3506efc2afdf": {
      "model_module": "@jupyter-widgets/controls",
      "model_module_version": "1.5.0",
      "model_name": "DescriptionStyleModel",
      "state": {
       "description_width": ""
      }
     },
     "69fccde6e591488ab168aeb11ae1abf2": {
      "model_module": "@jupyter-widgets/controls",
      "model_module_version": "1.5.0",
      "model_name": "DescriptionStyleModel",
      "state": {
       "description_width": ""
      }
     },
     "6a41f92ca0cb4dd398d2e31ea5a642b7": {
      "model_module": "@jupyter-widgets/controls",
      "model_module_version": "1.5.0",
      "model_name": "LabelModel",
      "state": {
       "layout": "IPY_MODEL_b1024cfe60e2418ea1f97d0dd681adde",
       "style": "IPY_MODEL_0242fbefb26d45e98041007a3cb8185e",
       "value": "what you would like to predict its rhizosphere microbiome:"
      }
     },
     "6a6633ab2cf74cb780c3cb4c61f96056": {
      "model_module": "@jupyter-widgets/controls",
      "model_module_version": "1.5.0",
      "model_name": "DescriptionStyleModel",
      "state": {
       "description_width": ""
      }
     },
     "6b32bf4049e24ee5bb4437b81c3339a8": {
      "model_module": "@jupyter-widgets/controls",
      "model_module_version": "1.5.0",
      "model_name": "FloatSliderModel",
      "state": {
       "description": "Rain",
       "layout": "IPY_MODEL_2a662c1559f6431d9c926ca1dedfb1e8",
       "max": 5,
       "step": 0.1,
       "style": "IPY_MODEL_17c2c160bc2c4d0a89f814b4685c46d9",
       "value": 1.5
      }
     },
     "6bfff8f226444d0abada22ed67421f1f": {
      "model_module": "@jupyter-widgets/base",
      "model_module_version": "1.2.0",
      "model_name": "LayoutModel",
      "state": {}
     },
     "6c3e1f2cb1a8496288ae682a26ffafd4": {
      "model_module": "@jupyter-widgets/controls",
      "model_module_version": "1.5.0",
      "model_name": "LabelModel",
      "state": {
       "layout": "IPY_MODEL_c4728d173fd640c0a1bc7998a127e45a",
       "style": "IPY_MODEL_79e7bf299f8e47b5944bb4be17ffc4b2",
       "value": "what you would like to predict its rhizosphere microbiome:"
      }
     },
     "6c5afb56755b423a92c9c4f8d2d207d9": {
      "model_module": "@jupyter-widgets/controls",
      "model_module_version": "1.5.0",
      "model_name": "DescriptionStyleModel",
      "state": {
       "description_width": ""
      }
     },
     "6e744a3c307c4c7482eecb2c688b18fa": {
      "model_module": "@jupyter-widgets/base",
      "model_module_version": "1.2.0",
      "model_name": "LayoutModel",
      "state": {}
     },
     "711da349b24a42cb84fdc0694e79cb46": {
      "model_module": "@jupyter-widgets/controls",
      "model_module_version": "1.5.0",
      "model_name": "LabelModel",
      "state": {
       "layout": "IPY_MODEL_9f18e3299d284083affde0d29e031246",
       "style": "IPY_MODEL_15e4c91bd04c490ea814aa4ba1f64ca6",
       "value": "\\(\\textbf{Introduce environmental features values}\\)"
      }
     },
     "71d90f0277584ca7bd5d6cff96303f1b": {
      "model_module": "@jupyter-widgets/controls",
      "model_module_version": "1.5.0",
      "model_name": "VBoxModel",
      "state": {
       "children": [
        "IPY_MODEL_0f93e5a6d5054dd4bec40d9f9118bba4",
        "IPY_MODEL_4150a18175e8436f8b4798f3d29ad49d",
        "IPY_MODEL_23d375e8fa1d4a428c48f237589f8d2b",
        "IPY_MODEL_2e429f453daf4bafaf52ae328dd24fe7"
       ],
       "layout": "IPY_MODEL_9c5dd29b991d477cad5a31faf9222b84"
      }
     },
     "732becb230cd4facb43863a1b996c5d4": {
      "model_module": "@jupyter-widgets/base",
      "model_module_version": "1.2.0",
      "model_name": "LayoutModel",
      "state": {}
     },
     "734e2bba7e764481b27e5c18c2a83bd2": {
      "model_module": "@jupyter-widgets/base",
      "model_module_version": "1.2.0",
      "model_name": "LayoutModel",
      "state": {}
     },
     "736c00d08162420ea11594c287f20f73": {
      "model_module": "@jupyter-widgets/controls",
      "model_module_version": "1.5.0",
      "model_name": "LabelModel",
      "state": {
       "layout": "IPY_MODEL_26d6085a62f74973a40527a223443eee",
       "style": "IPY_MODEL_7cbf4e7293454e9e93783c700611c055",
       "value": "\\(\\textbf{\\textcolor{red} {Introduce environmental features values}}\\)"
      }
     },
     "7524cbd77c424bdc98b95517f8f8d4c8": {
      "model_module": "@jupyter-widgets/controls",
      "model_module_version": "1.5.0",
      "model_name": "DescriptionStyleModel",
      "state": {
       "description_width": ""
      }
     },
     "759187d83d764929b3ec5fa5caf1a800": {
      "model_module": "@jupyter-widgets/controls",
      "model_module_version": "1.5.0",
      "model_name": "SliderStyleModel",
      "state": {
       "description_width": ""
      }
     },
     "771eddd3e1d542f5a69ede0c95558a11": {
      "model_module": "@jupyter-widgets/controls",
      "model_module_version": "1.5.0",
      "model_name": "FloatSliderModel",
      "state": {
       "description": "Temperature",
       "layout": "IPY_MODEL_c5b541c1ddb342ecbec68d4862e76876",
       "min": 40,
       "step": 0.1,
       "style": "IPY_MODEL_b8ee171a04c64256a73f074ce92d23c7",
       "value": 60
      }
     },
     "773a6f88027c4d449771d239ef6ecff0": {
      "model_module": "@jupyter-widgets/controls",
      "model_module_version": "1.5.0",
      "model_name": "DescriptionStyleModel",
      "state": {
       "description_width": ""
      }
     },
     "77aa15578b1043a0afd254d33e2147cf": {
      "model_module": "@jupyter-widgets/controls",
      "model_module_version": "1.5.0",
      "model_name": "SliderStyleModel",
      "state": {
       "description_width": ""
      }
     },
     "77d8cdc94ba647a3b5861e940939414e": {
      "model_module": "@jupyter-widgets/controls",
      "model_module_version": "1.5.0",
      "model_name": "DescriptionStyleModel",
      "state": {
       "description_width": ""
      }
     },
     "7917446fe8354640904c0b46a6ca65b0": {
      "model_module": "@jupyter-widgets/base",
      "model_module_version": "1.2.0",
      "model_name": "LayoutModel",
      "state": {}
     },
     "793998ddbb9042f88fbb90d60ed7d615": {
      "model_module": "@jupyter-widgets/controls",
      "model_module_version": "1.5.0",
      "model_name": "DescriptionStyleModel",
      "state": {
       "description_width": ""
      }
     },
     "796834a0daac4113827b1e234f1f4f61": {
      "model_module": "@jupyter-widgets/base",
      "model_module_version": "1.2.0",
      "model_name": "LayoutModel",
      "state": {}
     },
     "79e7bf299f8e47b5944bb4be17ffc4b2": {
      "model_module": "@jupyter-widgets/controls",
      "model_module_version": "1.5.0",
      "model_name": "DescriptionStyleModel",
      "state": {
       "description_width": ""
      }
     },
     "7b959dc2f65149c0b404a9e608643af2": {
      "model_module": "@jupyter-widgets/base",
      "model_module_version": "1.2.0",
      "model_name": "LayoutModel",
      "state": {}
     },
     "7cbf4e7293454e9e93783c700611c055": {
      "model_module": "@jupyter-widgets/controls",
      "model_module_version": "1.5.0",
      "model_name": "DescriptionStyleModel",
      "state": {
       "description_width": ""
      }
     },
     "7ce643c0699a460585767f73f81a3a45": {
      "model_module": "@jupyter-widgets/controls",
      "model_module_version": "1.5.0",
      "model_name": "LabelModel",
      "state": {
       "layout": "IPY_MODEL_a6d44c0f37cf450b9dc872c069abb4b3",
       "style": "IPY_MODEL_1485c4d06b9e4b9fbb9501adcbc15f73",
       "value": "Please, select the environmental features associated to the maize plant/soil to"
      }
     },
     "7f4ca267c46c44b89470a3aaf071d6f8": {
      "model_module": "@jupyter-widgets/controls",
      "model_module_version": "1.5.0",
      "model_name": "FloatSliderModel",
      "state": {
       "description": "Temperature",
       "layout": "IPY_MODEL_8c83ed878874465b9b8a3096542bb543",
       "min": 40,
       "step": 0.1,
       "style": "IPY_MODEL_ba3ddc94ce674fc986a5514e629998b5",
       "value": 88.7
      }
     },
     "823e8810ab3e4f66b3dc8cd37f2f6427": {
      "model_module": "@jupyter-widgets/controls",
      "model_module_version": "1.5.0",
      "model_name": "IntSliderModel",
      "state": {
       "description": "Plant age",
       "layout": "IPY_MODEL_376015cbe6ad45498b5ac1fc71c8dd32",
       "max": 20,
       "min": 1,
       "style": "IPY_MODEL_1d1d463be8624b878805f1d5254bf824",
       "value": 4
      }
     },
     "826f63e16a3349d591abf2fa14b461dc": {
      "model_module": "@jupyter-widgets/base",
      "model_module_version": "1.2.0",
      "model_name": "LayoutModel",
      "state": {}
     },
     "83be23c2666c479396406a4c2f5594c2": {
      "model_module": "@jupyter-widgets/controls",
      "model_module_version": "1.5.0",
      "model_name": "FloatSliderModel",
      "state": {
       "description": "Rain (3 days)",
       "layout": "IPY_MODEL_9c8ef2668c1941b8aafc8d188d903b82",
       "max": 5,
       "step": 0.1,
       "style": "IPY_MODEL_0afb13a256ef4b2a8f71a957edef14c3",
       "value": 1.5
      }
     },
     "84bfc0e5157d4bf8bffe38c01243f239": {
      "model_module": "@jupyter-widgets/base",
      "model_module_version": "1.2.0",
      "model_name": "LayoutModel",
      "state": {}
     },
     "84f7d2bc2e634c6b95e1dedfcc3b0894": {
      "model_module": "@jupyter-widgets/controls",
      "model_module_version": "1.5.0",
      "model_name": "LabelModel",
      "state": {
       "layout": "IPY_MODEL_3584b24704384b10a8dc3eda911b4772",
       "style": "IPY_MODEL_f8023ef80f8b47a78f32f6e3c0fbebec",
       "value": "(Units: temperature in ºF, rain in inches, plant age in weeks)"
      }
     },
     "865e420830c34f20bb11df0242cff2ee": {
      "model_module": "@jupyter-widgets/controls",
      "model_module_version": "1.5.0",
      "model_name": "FloatSliderModel",
      "state": {
       "description": "Temperature",
       "layout": "IPY_MODEL_b51193ebfbc4479fbb9310ad49a3e7fd",
       "min": 40,
       "step": 0.1,
       "style": "IPY_MODEL_f1496b6901b8423b8ea3f0690faee14d",
       "value": 60
      }
     },
     "866a9df1669441a4bde75a742793471c": {
      "model_module": "@jupyter-widgets/controls",
      "model_module_version": "1.5.0",
      "model_name": "IntSliderModel",
      "state": {
       "description": "Plant age",
       "layout": "IPY_MODEL_a043ae61399e44cba868946de5e09a1a",
       "max": 20,
       "min": 1,
       "style": "IPY_MODEL_8860c712caf04bda9d2585e3e358111d",
       "value": 4
      }
     },
     "87078e9706044fd29dbeae447a3a5b94": {
      "model_module": "@jupyter-widgets/base",
      "model_module_version": "1.2.0",
      "model_name": "LayoutModel",
      "state": {}
     },
     "87d8c9920944465fad0e6e28ff3902d7": {
      "model_module": "@jupyter-widgets/controls",
      "model_module_version": "1.5.0",
      "model_name": "SliderStyleModel",
      "state": {
       "description_width": ""
      }
     },
     "885ec0b40b2845b796653f6b876563e6": {
      "model_module": "@jupyter-widgets/controls",
      "model_module_version": "1.5.0",
      "model_name": "FloatSliderModel",
      "state": {
       "description": "Temperature",
       "layout": "IPY_MODEL_38453753ccde43dba9d77ec123c63aa6",
       "min": 40,
       "step": 0.1,
       "style": "IPY_MODEL_2e9402cc804c4b859911cd47e454dd4d",
       "value": 60
      }
     },
     "8860c712caf04bda9d2585e3e358111d": {
      "model_module": "@jupyter-widgets/controls",
      "model_module_version": "1.5.0",
      "model_name": "SliderStyleModel",
      "state": {
       "description_width": ""
      }
     },
     "89c131525e27456eb5e6c37bccac3bc9": {
      "model_module": "@jupyter-widgets/controls",
      "model_module_version": "1.5.0",
      "model_name": "LabelModel",
      "state": {
       "layout": "IPY_MODEL_a620df6d63b04c31946c22254763d7f5",
       "style": "IPY_MODEL_e302bce287ab4e8ab8319e5a1653ea5a",
       "value": "what you would like to predict its rhizosphere microbiome:"
      }
     },
     "89d42f05bd464d0e80e86bd777f73e85": {
      "model_module": "@jupyter-widgets/base",
      "model_module_version": "1.2.0",
      "model_name": "LayoutModel",
      "state": {}
     },
     "89dd072b1cfd4e5aaaa0523f86d7de82": {
      "model_module": "@jupyter-widgets/controls",
      "model_module_version": "1.5.0",
      "model_name": "LabelModel",
      "state": {
       "layout": "IPY_MODEL_27810c91d04e4411b703f73e7a9f728d",
       "style": "IPY_MODEL_027e55e724e64e0b9d412d695a9665cc",
       "value": "\\(\\textbf{Introduce environmental features values}\\)"
      }
     },
     "8a42fd8cbea9460da0d94fc2c6d7c911": {
      "model_module": "@jupyter-widgets/controls",
      "model_module_version": "1.5.0",
      "model_name": "IntSliderModel",
      "state": {
       "description": "Plant age",
       "layout": "IPY_MODEL_b184f7f370ad453cb3b58c596d3f10b7",
       "max": 20,
       "min": 1,
       "style": "IPY_MODEL_3f6bfb9c42e54086b97c7232443a627b",
       "value": 9
      }
     },
     "8b700fe7b89c47fdb90c6d6f806f73b5": {
      "model_module": "@jupyter-widgets/controls",
      "model_module_version": "1.5.0",
      "model_name": "DescriptionStyleModel",
      "state": {
       "description_width": ""
      }
     },
     "8c6b7c136d5644bfae2b1304abfd4286": {
      "model_module": "@jupyter-widgets/controls",
      "model_module_version": "1.5.0",
      "model_name": "LabelModel",
      "state": {
       "layout": "IPY_MODEL_c9d8533afe4a4bc2ab8517b18ec4acc9",
       "style": "IPY_MODEL_de30538a6c00479f956a25857d4e133a",
       "value": "what you would like to predict its rhizosphere microbiome:"
      }
     },
     "8c83ed878874465b9b8a3096542bb543": {
      "model_module": "@jupyter-widgets/base",
      "model_module_version": "1.2.0",
      "model_name": "LayoutModel",
      "state": {}
     },
     "8dbbeb40321c4141be9ec1287e0ee33c": {
      "model_module": "@jupyter-widgets/base",
      "model_module_version": "1.2.0",
      "model_name": "LayoutModel",
      "state": {}
     },
     "8e61264114554df49574834b265ad6fa": {
      "model_module": "@jupyter-widgets/controls",
      "model_module_version": "1.5.0",
      "model_name": "VBoxModel",
      "state": {
       "children": [
        "IPY_MODEL_89dd072b1cfd4e5aaaa0523f86d7de82",
        "IPY_MODEL_d694635addbd41e7ae7d30ed9c7450f5",
        "IPY_MODEL_4b243731cd274156b8990b695ef5e178",
        "IPY_MODEL_2a5d60ea610049d7be5369e2d2f2641c",
        "IPY_MODEL_f1d056690a82448a8a85af82b2cbf82b",
        "IPY_MODEL_83be23c2666c479396406a4c2f5594c2",
        "IPY_MODEL_a1a00ba30dbc4662b64f8ccac5e2fd3b"
       ],
       "layout": "IPY_MODEL_45a660604ffe4e74815ee653e9f2fb8d"
      }
     },
     "8ee6a906aa524bbaaea66848367cefcf": {
      "model_module": "@jupyter-widgets/controls",
      "model_module_version": "1.5.0",
      "model_name": "SliderStyleModel",
      "state": {
       "description_width": ""
      }
     },
     "8f42199bd574400d80b3d672ce8000c2": {
      "model_module": "@jupyter-widgets/base",
      "model_module_version": "1.2.0",
      "model_name": "LayoutModel",
      "state": {}
     },
     "8fbef6b498404df3a57e2af706124963": {
      "model_module": "@jupyter-widgets/controls",
      "model_module_version": "1.5.0",
      "model_name": "FloatSliderModel",
      "state": {
       "description": "Rain (3 days)",
       "layout": "IPY_MODEL_ed08c67560f64292abb426d9a135bad6",
       "max": 5,
       "step": 0.1,
       "style": "IPY_MODEL_2ec5867976a94f73991cf4a7f4820991",
       "value": 1.5
      }
     },
     "91c29de1e3284919a155bb38beaf7eab": {
      "model_module": "@jupyter-widgets/controls",
      "model_module_version": "1.5.0",
      "model_name": "FloatSliderModel",
      "state": {
       "description": "Rain",
       "layout": "IPY_MODEL_796834a0daac4113827b1e234f1f4f61",
       "max": 5,
       "step": 0.1,
       "style": "IPY_MODEL_4a4927a9c1cd4491a8639c64e6c8ece5",
       "value": 1.5
      }
     },
     "923d248a61a6437c9008b2ad6db05831": {
      "model_module": "@jupyter-widgets/base",
      "model_module_version": "1.2.0",
      "model_name": "LayoutModel",
      "state": {}
     },
     "960499894641420e949f8662abe2609f": {
      "model_module": "@jupyter-widgets/controls",
      "model_module_version": "1.5.0",
      "model_name": "DescriptionStyleModel",
      "state": {
       "description_width": ""
      }
     },
     "985c68111f46441c9ff0b92e757080d8": {
      "model_module": "@jupyter-widgets/controls",
      "model_module_version": "1.5.0",
      "model_name": "SliderStyleModel",
      "state": {
       "description_width": ""
      }
     },
     "98f045ad422341398d28bc739385ed66": {
      "model_module": "@jupyter-widgets/controls",
      "model_module_version": "1.5.0",
      "model_name": "DescriptionStyleModel",
      "state": {
       "description_width": ""
      }
     },
     "99d68374d0d741caa9f1df7015f60791": {
      "model_module": "@jupyter-widgets/controls",
      "model_module_version": "1.5.0",
      "model_name": "SliderStyleModel",
      "state": {
       "description_width": ""
      }
     },
     "9c1fd95551944f25921a2dd542259e8f": {
      "model_module": "@jupyter-widgets/base",
      "model_module_version": "1.2.0",
      "model_name": "LayoutModel",
      "state": {}
     },
     "9c5dd29b991d477cad5a31faf9222b84": {
      "model_module": "@jupyter-widgets/base",
      "model_module_version": "1.2.0",
      "model_name": "LayoutModel",
      "state": {}
     },
     "9c8ef2668c1941b8aafc8d188d903b82": {
      "model_module": "@jupyter-widgets/base",
      "model_module_version": "1.2.0",
      "model_name": "LayoutModel",
      "state": {}
     },
     "9d2725391bdf47b481ed06123fc36d55": {
      "model_module": "@jupyter-widgets/controls",
      "model_module_version": "1.5.0",
      "model_name": "FloatSliderModel",
      "state": {
       "description": "Rain (3 days)",
       "layout": "IPY_MODEL_b6fe8eb62bd947d6a2b5083ddc3ba758",
       "max": 5,
       "step": 0.1,
       "style": "IPY_MODEL_066ee55f961449589a8a143b3c4d72c4",
       "value": 1.5
      }
     },
     "9d3252205f61451cba193e3f5e38f0db": {
      "model_module": "@jupyter-widgets/base",
      "model_module_version": "1.2.0",
      "model_name": "LayoutModel",
      "state": {}
     },
     "9f18e3299d284083affde0d29e031246": {
      "model_module": "@jupyter-widgets/base",
      "model_module_version": "1.2.0",
      "model_name": "LayoutModel",
      "state": {}
     },
     "9ff8834af58b4d4e99b57dfec072a880": {
      "model_module": "@jupyter-widgets/base",
      "model_module_version": "1.2.0",
      "model_name": "LayoutModel",
      "state": {}
     },
     "a043ae61399e44cba868946de5e09a1a": {
      "model_module": "@jupyter-widgets/base",
      "model_module_version": "1.2.0",
      "model_name": "LayoutModel",
      "state": {}
     },
     "a06b91959d7b48fbb420ccc751119c0e": {
      "model_module": "@jupyter-widgets/base",
      "model_module_version": "1.2.0",
      "model_name": "LayoutModel",
      "state": {}
     },
     "a089aa6a1e044b7384eefd5f6b79a3b3": {
      "model_module": "@jupyter-widgets/controls",
      "model_module_version": "1.5.0",
      "model_name": "SliderStyleModel",
      "state": {
       "description_width": ""
      }
     },
     "a19afcfe6ca74e9686846ce3955b7ab7": {
      "model_module": "@jupyter-widgets/controls",
      "model_module_version": "1.5.0",
      "model_name": "SliderStyleModel",
      "state": {
       "description_width": ""
      }
     },
     "a1a00ba30dbc4662b64f8ccac5e2fd3b": {
      "model_module": "@jupyter-widgets/controls",
      "model_module_version": "1.5.0",
      "model_name": "IntSliderModel",
      "state": {
       "description": "Plant age",
       "layout": "IPY_MODEL_38394c014e024d22b814ec23b700c98d",
       "max": 20,
       "min": 1,
       "style": "IPY_MODEL_985c68111f46441c9ff0b92e757080d8",
       "value": 4
      }
     },
     "a407d05a1f74404fb9c798518d44ade6": {
      "model_module": "@jupyter-widgets/controls",
      "model_module_version": "1.5.0",
      "model_name": "DescriptionStyleModel",
      "state": {
       "description_width": ""
      }
     },
     "a50e7dab687549c286722df7d4065e74": {
      "model_module": "@jupyter-widgets/controls",
      "model_module_version": "1.5.0",
      "model_name": "IntSliderModel",
      "state": {
       "description": "Plant age",
       "layout": "IPY_MODEL_6653b82cec8f4292b31f0decf387a070",
       "max": 20,
       "min": 1,
       "style": "IPY_MODEL_afd65ead74ee4dc09525515c8c42e564",
       "value": 4
      }
     },
     "a60db921adfc443a9650b7c9d6d49775": {
      "model_module": "@jupyter-widgets/controls",
      "model_module_version": "1.5.0",
      "model_name": "DescriptionStyleModel",
      "state": {
       "description_width": ""
      }
     },
     "a620df6d63b04c31946c22254763d7f5": {
      "model_module": "@jupyter-widgets/base",
      "model_module_version": "1.2.0",
      "model_name": "LayoutModel",
      "state": {}
     },
     "a6d070e556a64f92bf56d082552d3209": {
      "model_module": "@jupyter-widgets/base",
      "model_module_version": "1.2.0",
      "model_name": "LayoutModel",
      "state": {}
     },
     "a6d44c0f37cf450b9dc872c069abb4b3": {
      "model_module": "@jupyter-widgets/base",
      "model_module_version": "1.2.0",
      "model_name": "LayoutModel",
      "state": {}
     },
     "a77547510cb04063952c3cf02ff73f28": {
      "model_module": "@jupyter-widgets/controls",
      "model_module_version": "1.5.0",
      "model_name": "FloatSliderModel",
      "state": {
       "description": "Rain (3 days)",
       "layout": "IPY_MODEL_cdced0ec9da54f7e9e0f55f40ddb7574",
       "max": 5,
       "step": 0.1,
       "style": "IPY_MODEL_0b1bca74108e42aeace65a601498d4e3",
       "value": 1.5
      }
     },
     "a97ea190e27c4460b8c5178f1e8f966b": {
      "model_module": "@jupyter-widgets/controls",
      "model_module_version": "1.5.0",
      "model_name": "LabelModel",
      "state": {
       "layout": "IPY_MODEL_f34a63dd06354bf3b1ed59207e67bbc6",
       "style": "IPY_MODEL_145b426ed1ed4fd9a3412fa2edf7f4eb",
       "value": "what you would like to predict its rhizosphere microbiome:"
      }
     },
     "acfed6a5a47e495d808dad5effbabb8b": {
      "model_module": "@jupyter-widgets/controls",
      "model_module_version": "1.5.0",
      "model_name": "VBoxModel",
      "state": {
       "children": [
        "IPY_MODEL_24e1a4b09f764cf498b1438b78865242",
        "IPY_MODEL_5f890dee260642a19848bf3cbbbef822",
        "IPY_MODEL_69d287f568b9425f865847bb3cf232c2",
        "IPY_MODEL_885ec0b40b2845b796653f6b876563e6",
        "IPY_MODEL_8fbef6b498404df3a57e2af706124963",
        "IPY_MODEL_a50e7dab687549c286722df7d4065e74"
       ],
       "layout": "IPY_MODEL_dbf766f66bf74eef80288b1a20bd450c"
      }
     },
     "ada05c1f0fe2406fab70222618026f92": {
      "model_module": "@jupyter-widgets/controls",
      "model_module_version": "1.5.0",
      "model_name": "VBoxModel",
      "state": {
       "children": [
        "IPY_MODEL_be2c28c394bd4a0983fc3cd5f44ec2bc",
        "IPY_MODEL_fe089f6b463e4b948644a5b40c4d18dd",
        "IPY_MODEL_43090d7e26484384a1d39bf30236d820",
        "IPY_MODEL_866a9df1669441a4bde75a742793471c"
       ],
       "layout": "IPY_MODEL_f9e2ee32def3407d8f9f3646030ba728"
      }
     },
     "ae0aa8a61691431ea11769fa5dd4c7ca": {
      "model_module": "@jupyter-widgets/controls",
      "model_module_version": "1.5.0",
      "model_name": "VBoxModel",
      "state": {
       "children": [
        "IPY_MODEL_736c00d08162420ea11594c287f20f73",
        "IPY_MODEL_39c45c46287944e98193f434c1fa4fd9",
        "IPY_MODEL_89c131525e27456eb5e6c37bccac3bc9",
        "IPY_MODEL_49e8a969f1134446bddbf545c99ae3da",
        "IPY_MODEL_0edd0bd051bd403a8983d6f1ede88015",
        "IPY_MODEL_a77547510cb04063952c3cf02ff73f28",
        "IPY_MODEL_5e2fcbf937704e74818e4b0c10522c27"
       ],
       "layout": "IPY_MODEL_cc2e5f35e779448d9adb41910a497942"
      }
     },
     "afb1aa1d60ce4c60992b291480ebc03c": {
      "model_module": "@jupyter-widgets/controls",
      "model_module_version": "1.5.0",
      "model_name": "DescriptionStyleModel",
      "state": {
       "description_width": ""
      }
     },
     "afd65ead74ee4dc09525515c8c42e564": {
      "model_module": "@jupyter-widgets/controls",
      "model_module_version": "1.5.0",
      "model_name": "SliderStyleModel",
      "state": {
       "description_width": ""
      }
     },
     "b1024cfe60e2418ea1f97d0dd681adde": {
      "model_module": "@jupyter-widgets/base",
      "model_module_version": "1.2.0",
      "model_name": "LayoutModel",
      "state": {}
     },
     "b1597d65eed740ce87b20bed0f19c731": {
      "model_module": "@jupyter-widgets/base",
      "model_module_version": "1.2.0",
      "model_name": "LayoutModel",
      "state": {}
     },
     "b184f7f370ad453cb3b58c596d3f10b7": {
      "model_module": "@jupyter-widgets/base",
      "model_module_version": "1.2.0",
      "model_name": "LayoutModel",
      "state": {}
     },
     "b387d11970394f1b95b4abdee0c937a7": {
      "model_module": "@jupyter-widgets/base",
      "model_module_version": "1.2.0",
      "model_name": "LayoutModel",
      "state": {}
     },
     "b3bc9391068140a59e499de834315c24": {
      "model_module": "@jupyter-widgets/controls",
      "model_module_version": "1.5.0",
      "model_name": "SliderStyleModel",
      "state": {
       "description_width": ""
      }
     },
     "b51193ebfbc4479fbb9310ad49a3e7fd": {
      "model_module": "@jupyter-widgets/base",
      "model_module_version": "1.2.0",
      "model_name": "LayoutModel",
      "state": {}
     },
     "b55ff6b2c8764dcda2963f96815c960d": {
      "model_module": "@jupyter-widgets/controls",
      "model_module_version": "1.5.0",
      "model_name": "FloatSliderModel",
      "state": {
       "description": "Rain (3 days)",
       "layout": "IPY_MODEL_c01877eed57545d4beaa8299a1cd73b3",
       "max": 5,
       "step": 0.1,
       "style": "IPY_MODEL_f53cd04c420f4271b58870f999ba4b94",
       "value": 1.5
      }
     },
     "b60bf1c2b2f74ad4943866c9cd4cef49": {
      "model_module": "@jupyter-widgets/controls",
      "model_module_version": "1.5.0",
      "model_name": "VBoxModel",
      "state": {
       "children": [
        "IPY_MODEL_d0856de6e937416ebbb3c38862d4d98c",
        "IPY_MODEL_195838021c8c4a148009da3e395a0785",
        "IPY_MODEL_6a41f92ca0cb4dd398d2e31ea5a642b7",
        "IPY_MODEL_b7d679ea908f4117a842de5ef58bd5b6",
        "IPY_MODEL_7f4ca267c46c44b89470a3aaf071d6f8",
        "IPY_MODEL_36b49545c3a241d98098d6c43558679f",
        "IPY_MODEL_8a42fd8cbea9460da0d94fc2c6d7c911"
       ],
       "layout": "IPY_MODEL_5617187ec4dc4e3299937b94aaa9c623"
      }
     },
     "b6fe8eb62bd947d6a2b5083ddc3ba758": {
      "model_module": "@jupyter-widgets/base",
      "model_module_version": "1.2.0",
      "model_name": "LayoutModel",
      "state": {}
     },
     "b7d679ea908f4117a842de5ef58bd5b6": {
      "model_module": "@jupyter-widgets/controls",
      "model_module_version": "1.5.0",
      "model_name": "LabelModel",
      "state": {
       "layout": "IPY_MODEL_3f28284696a946d89c1144c5ff5ee092",
       "style": "IPY_MODEL_fd80c2d7323842b99c6d029975cee9c5",
       "value": "(Units: temperature in ºF, rain in inches, plant age in weeks)"
      }
     },
     "b8ee171a04c64256a73f074ce92d23c7": {
      "model_module": "@jupyter-widgets/controls",
      "model_module_version": "1.5.0",
      "model_name": "SliderStyleModel",
      "state": {
       "description_width": ""
      }
     },
     "b9c2ac2be8104b91b949d6d2a3504c83": {
      "model_module": "@jupyter-widgets/controls",
      "model_module_version": "1.5.0",
      "model_name": "LabelModel",
      "state": {
       "layout": "IPY_MODEL_11427469659f4f948543dcf6d93984dc",
       "style": "IPY_MODEL_960499894641420e949f8662abe2609f",
       "value": "Please, select the environmental features associated to the maize plant/soil to"
      }
     },
     "ba3ddc94ce674fc986a5514e629998b5": {
      "model_module": "@jupyter-widgets/controls",
      "model_module_version": "1.5.0",
      "model_name": "SliderStyleModel",
      "state": {
       "description_width": ""
      }
     },
     "ba4bdd5177ee458b9212f2a4c86e143b": {
      "model_module": "@jupyter-widgets/controls",
      "model_module_version": "1.5.0",
      "model_name": "FloatSliderModel",
      "state": {
       "description": "Temperature",
       "layout": "IPY_MODEL_6bfff8f226444d0abada22ed67421f1f",
       "min": 40,
       "step": 0.1,
       "style": "IPY_MODEL_759187d83d764929b3ec5fa5caf1a800",
       "value": 88.7
      }
     },
     "bba7f17ac0d847a38be7268f9f92b931": {
      "model_module": "@jupyter-widgets/controls",
      "model_module_version": "1.5.0",
      "model_name": "LabelModel",
      "state": {
       "layout": "IPY_MODEL_5350406b0b634ea6b5e3de5e4a488654",
       "style": "IPY_MODEL_f883b9c739964982becf30df5c3c17e9",
       "value": "what you would like to predict its rhizosphere microbiome:"
      }
     },
     "bdb90eac33174aa084d423fe0ed66bae": {
      "model_module": "@jupyter-widgets/controls",
      "model_module_version": "1.5.0",
      "model_name": "SliderStyleModel",
      "state": {
       "description_width": ""
      }
     },
     "be2c28c394bd4a0983fc3cd5f44ec2bc": {
      "model_module": "@jupyter-widgets/controls",
      "model_module_version": "1.5.0",
      "model_name": "LabelModel",
      "state": {
       "layout": "IPY_MODEL_7b959dc2f65149c0b404a9e608643af2",
       "style": "IPY_MODEL_d4e63a15b2584a738590f9aedb27a3f4",
       "value": "Please, select the environmental features associated to the maize plant/soil to what you would like to predict its rhizosphere microbiome:"
      }
     },
     "beb411fe9b5746babb8358e271c5a083": {
      "model_module": "@jupyter-widgets/base",
      "model_module_version": "1.2.0",
      "model_name": "LayoutModel",
      "state": {}
     },
     "bfd77e8ad63841889511c71da222afa2": {
      "model_module": "@jupyter-widgets/controls",
      "model_module_version": "1.5.0",
      "model_name": "VBoxModel",
      "state": {
       "children": [
        "IPY_MODEL_b9c2ac2be8104b91b949d6d2a3504c83",
        "IPY_MODEL_d38d3a546105414287d8c55434ace882",
        "IPY_MODEL_865e420830c34f20bb11df0242cff2ee",
        "IPY_MODEL_9d2725391bdf47b481ed06123fc36d55",
        "IPY_MODEL_f160226413b64f59acb95965592ff0ff"
       ],
       "layout": "IPY_MODEL_f75fec480e1e42489babac32a0f98098"
      }
     },
     "c00e4b484e5b469488c01c4a90237ece": {
      "model_module": "@jupyter-widgets/controls",
      "model_module_version": "1.5.0",
      "model_name": "DescriptionStyleModel",
      "state": {
       "description_width": ""
      }
     },
     "c01877eed57545d4beaa8299a1cd73b3": {
      "model_module": "@jupyter-widgets/base",
      "model_module_version": "1.2.0",
      "model_name": "LayoutModel",
      "state": {}
     },
     "c3f92314b5b04d5c8a661a67be5f0506": {
      "model_module": "@jupyter-widgets/base",
      "model_module_version": "1.2.0",
      "model_name": "LayoutModel",
      "state": {}
     },
     "c42e192709d14f3e8cde917ad53500cb": {
      "model_module": "@jupyter-widgets/controls",
      "model_module_version": "1.5.0",
      "model_name": "SliderStyleModel",
      "state": {
       "description_width": ""
      }
     },
     "c465681f11814070b87baccf99f1827e": {
      "model_module": "@jupyter-widgets/controls",
      "model_module_version": "1.5.0",
      "model_name": "IntSliderModel",
      "state": {
       "description": "Plant age",
       "layout": "IPY_MODEL_35f6a724b097443491f43c8c2b21ed6a",
       "max": 20,
       "min": 1,
       "style": "IPY_MODEL_fa6f67f117504cd1a6922f05d90b67ee",
       "value": 4
      }
     },
     "c4728d173fd640c0a1bc7998a127e45a": {
      "model_module": "@jupyter-widgets/base",
      "model_module_version": "1.2.0",
      "model_name": "LayoutModel",
      "state": {}
     },
     "c51486b960d3480bb479754247c90d61": {
      "model_module": "@jupyter-widgets/base",
      "model_module_version": "1.2.0",
      "model_name": "LayoutModel",
      "state": {}
     },
     "c58f5876c8d045eb97f19598b11f23e3": {
      "model_module": "@jupyter-widgets/controls",
      "model_module_version": "1.5.0",
      "model_name": "LabelModel",
      "state": {
       "layout": "IPY_MODEL_6184b591f134480494f98c353ef493e5",
       "style": "IPY_MODEL_f30e581743ad429086a8fd38072ce141",
       "value": "Please, select the environmental features associated to the maize plant/soil to"
      }
     },
     "c5b541c1ddb342ecbec68d4862e76876": {
      "model_module": "@jupyter-widgets/base",
      "model_module_version": "1.2.0",
      "model_name": "LayoutModel",
      "state": {}
     },
     "c6cdbbb6b28a4d5484243da4560bf859": {
      "model_module": "@jupyter-widgets/controls",
      "model_module_version": "1.5.0",
      "model_name": "SliderStyleModel",
      "state": {
       "description_width": ""
      }
     },
     "c7002a5e17074cb89a07c696d513f60d": {
      "model_module": "@jupyter-widgets/base",
      "model_module_version": "1.2.0",
      "model_name": "LayoutModel",
      "state": {}
     },
     "c835a31c740542f5808c69642409c4ed": {
      "model_module": "@jupyter-widgets/base",
      "model_module_version": "1.2.0",
      "model_name": "LayoutModel",
      "state": {}
     },
     "c908a595239c42f980b90fd0b928b937": {
      "model_module": "@jupyter-widgets/controls",
      "model_module_version": "1.5.0",
      "model_name": "FloatSliderModel",
      "state": {
       "description": "Temperature",
       "layout": "IPY_MODEL_6974da43110545b580b93143f389278e",
       "min": 40,
       "step": 0.1,
       "style": "IPY_MODEL_99d68374d0d741caa9f1df7015f60791",
       "value": 60
      }
     },
     "c9d8533afe4a4bc2ab8517b18ec4acc9": {
      "model_module": "@jupyter-widgets/base",
      "model_module_version": "1.2.0",
      "model_name": "LayoutModel",
      "state": {}
     },
     "c9de60553d4149c08a9ab0f400422c00": {
      "model_module": "@jupyter-widgets/controls",
      "model_module_version": "1.5.0",
      "model_name": "SliderStyleModel",
      "state": {
       "description_width": ""
      }
     },
     "cc2e5f35e779448d9adb41910a497942": {
      "model_module": "@jupyter-widgets/base",
      "model_module_version": "1.2.0",
      "model_name": "LayoutModel",
      "state": {}
     },
     "cdced0ec9da54f7e9e0f55f40ddb7574": {
      "model_module": "@jupyter-widgets/base",
      "model_module_version": "1.2.0",
      "model_name": "LayoutModel",
      "state": {}
     },
     "d0856de6e937416ebbb3c38862d4d98c": {
      "model_module": "@jupyter-widgets/controls",
      "model_module_version": "1.5.0",
      "model_name": "LabelModel",
      "state": {
       "layout": "IPY_MODEL_203d7fdc4b664b81b9e1aea5a919fb19",
       "style": "IPY_MODEL_69a6fffa292541afbd5b0ce18b2735e1",
       "value": "\\(\\textbf{Introduce environmental features values}\\)"
      }
     },
     "d1bd2014db01443c808c928fd27f878c": {
      "model_module": "@jupyter-widgets/controls",
      "model_module_version": "1.5.0",
      "model_name": "VBoxModel",
      "state": {
       "children": [
        "IPY_MODEL_de4e21a4a3a544f1b353a8c81a5191bf",
        "IPY_MODEL_2174a216abe34296a000f8626b2d4af4",
        "IPY_MODEL_771eddd3e1d542f5a69ede0c95558a11",
        "IPY_MODEL_b55ff6b2c8764dcda2963f96815c960d",
        "IPY_MODEL_05d27085388246a4850c43d610f4a9b9"
       ],
       "layout": "IPY_MODEL_2ef9b67f1db849d8b8baa198a560f68b"
      }
     },
     "d1d660fc534544bda16524cda28ae883": {
      "model_module": "@jupyter-widgets/controls",
      "model_module_version": "1.5.0",
      "model_name": "IntSliderModel",
      "state": {
       "description": "Plant age",
       "layout": "IPY_MODEL_f26e4e8f3b8c41b988d3b8ea358f9092",
       "max": 20,
       "min": 1,
       "style": "IPY_MODEL_2a19ffcc377340f38b08729f6008f382",
       "value": 4
      }
     },
     "d21ca99e497a40609caca8d08a2166aa": {
      "model_module": "@jupyter-widgets/base",
      "model_module_version": "1.2.0",
      "model_name": "LayoutModel",
      "state": {}
     },
     "d22806f560254b328bebe7753802a630": {
      "model_module": "@jupyter-widgets/base",
      "model_module_version": "1.2.0",
      "model_name": "LayoutModel",
      "state": {}
     },
     "d25ffa69d2bd42c8a4df36932395437f": {
      "model_module": "@jupyter-widgets/controls",
      "model_module_version": "1.5.0",
      "model_name": "FloatSliderModel",
      "state": {
       "description": "Temperature",
       "layout": "IPY_MODEL_c51486b960d3480bb479754247c90d61",
       "min": 40,
       "step": 0.1,
       "style": "IPY_MODEL_e3d5c5b79a704de284bf5ee93a7d03fa",
       "value": 60
      }
     },
     "d26456d5609a4da38e75ed23404c1754": {
      "model_module": "@jupyter-widgets/controls",
      "model_module_version": "1.5.0",
      "model_name": "SliderStyleModel",
      "state": {
       "description_width": ""
      }
     },
     "d38d3a546105414287d8c55434ace882": {
      "model_module": "@jupyter-widgets/controls",
      "model_module_version": "1.5.0",
      "model_name": "LabelModel",
      "state": {
       "layout": "IPY_MODEL_b387d11970394f1b95b4abdee0c937a7",
       "style": "IPY_MODEL_397e4401fc614f7a94f90624d54672c3",
       "value": "what you would like to predict its rhizosphere microbiome:"
      }
     },
     "d4e63a15b2584a738590f9aedb27a3f4": {
      "model_module": "@jupyter-widgets/controls",
      "model_module_version": "1.5.0",
      "model_name": "DescriptionStyleModel",
      "state": {
       "description_width": ""
      }
     },
     "d5fa10d0de0342ae95e53ed69803d196": {
      "model_module": "@jupyter-widgets/base",
      "model_module_version": "1.2.0",
      "model_name": "LayoutModel",
      "state": {}
     },
     "d694635addbd41e7ae7d30ed9c7450f5": {
      "model_module": "@jupyter-widgets/controls",
      "model_module_version": "1.5.0",
      "model_name": "LabelModel",
      "state": {
       "layout": "IPY_MODEL_f66a34694160482d9f245b8e8eff6967",
       "style": "IPY_MODEL_c00e4b484e5b469488c01c4a90237ece",
       "value": "Please, select the environmental features associated to the maize plant/soil to"
      }
     },
     "d89c99c9771a4dca8b6558b3420b3271": {
      "model_module": "@jupyter-widgets/controls",
      "model_module_version": "1.5.0",
      "model_name": "VBoxModel",
      "state": {
       "children": [
        "IPY_MODEL_f76c17114483439a970159822512c04f",
        "IPY_MODEL_91c29de1e3284919a155bb38beaf7eab",
        "IPY_MODEL_470b77b46e7446628238c1fee668b627"
       ],
       "layout": "IPY_MODEL_eae2f2b6a2404562a0b6e80ba781e92d"
      }
     },
     "d9c31b2a2b08446e9b9bd59520942093": {
      "model_module": "@jupyter-widgets/controls",
      "model_module_version": "1.5.0",
      "model_name": "DescriptionStyleModel",
      "state": {
       "description_width": ""
      }
     },
     "daac81e6f901426f8b5f0993d2052d13": {
      "model_module": "@jupyter-widgets/controls",
      "model_module_version": "1.5.0",
      "model_name": "LabelModel",
      "state": {
       "layout": "IPY_MODEL_220c87bf49be47f39f52fa3e459fccdf",
       "style": "IPY_MODEL_3ec683f2617440b1a1cc0a79a9c430d0",
       "value": "(Units: temperature in ºF, rain in inches, plant age in weeks)"
      }
     },
     "db4fac8d4d1b470ea928e36d44cce856": {
      "model_module": "@jupyter-widgets/base",
      "model_module_version": "1.2.0",
      "model_name": "LayoutModel",
      "state": {}
     },
     "dbf766f66bf74eef80288b1a20bd450c": {
      "model_module": "@jupyter-widgets/base",
      "model_module_version": "1.2.0",
      "model_name": "LayoutModel",
      "state": {}
     },
     "ddee93d7c5b3450fbc7924ad9fbbb38f": {
      "model_module": "@jupyter-widgets/controls",
      "model_module_version": "1.5.0",
      "model_name": "SliderStyleModel",
      "state": {
       "description_width": ""
      }
     },
     "de30538a6c00479f956a25857d4e133a": {
      "model_module": "@jupyter-widgets/controls",
      "model_module_version": "1.5.0",
      "model_name": "DescriptionStyleModel",
      "state": {
       "description_width": ""
      }
     },
     "de4e21a4a3a544f1b353a8c81a5191bf": {
      "model_module": "@jupyter-widgets/controls",
      "model_module_version": "1.5.0",
      "model_name": "LabelModel",
      "state": {
       "layout": "IPY_MODEL_dfd9da301f164507b484f4835e845111",
       "style": "IPY_MODEL_7524cbd77c424bdc98b95517f8f8d4c8",
       "value": "Please, select the environmental features associated to the maize plant/soil to"
      }
     },
     "dfc1c643211a458fa85d8af28cf8c61e": {
      "model_module": "@jupyter-widgets/controls",
      "model_module_version": "1.5.0",
      "model_name": "SliderStyleModel",
      "state": {
       "description_width": ""
      }
     },
     "dfd9da301f164507b484f4835e845111": {
      "model_module": "@jupyter-widgets/base",
      "model_module_version": "1.2.0",
      "model_name": "LayoutModel",
      "state": {}
     },
     "e12820d784454b62a5f275cedda922ce": {
      "model_module": "@jupyter-widgets/controls",
      "model_module_version": "1.5.0",
      "model_name": "FloatSliderModel",
      "state": {
       "description": "Temperature",
       "layout": "IPY_MODEL_1e7fa93132db4849919fa1801868b027",
       "min": 40,
       "step": 0.1,
       "style": "IPY_MODEL_ed6d49ec433448119617c5d272013faf",
       "value": 60
      }
     },
     "e135a139cddc45bc8bfc6a6b4a9b5cda": {
      "model_module": "@jupyter-widgets/controls",
      "model_module_version": "1.5.0",
      "model_name": "LabelModel",
      "state": {
       "layout": "IPY_MODEL_89d42f05bd464d0e80e86bd777f73e85",
       "style": "IPY_MODEL_102c288ed1364f1c80ec6c33d81e9501",
       "value": "Please, select the environmental features associated to the maize plant/soil to"
      }
     },
     "e302bce287ab4e8ab8319e5a1653ea5a": {
      "model_module": "@jupyter-widgets/controls",
      "model_module_version": "1.5.0",
      "model_name": "DescriptionStyleModel",
      "state": {
       "description_width": ""
      }
     },
     "e31e18de9d4c4214bb4706b0be7c43b2": {
      "model_module": "@jupyter-widgets/controls",
      "model_module_version": "1.5.0",
      "model_name": "SliderStyleModel",
      "state": {
       "description_width": ""
      }
     },
     "e3d5c5b79a704de284bf5ee93a7d03fa": {
      "model_module": "@jupyter-widgets/controls",
      "model_module_version": "1.5.0",
      "model_name": "SliderStyleModel",
      "state": {
       "description_width": ""
      }
     },
     "e517007c76f64c93949346c45c0dafce": {
      "model_module": "@jupyter-widgets/controls",
      "model_module_version": "1.5.0",
      "model_name": "SliderStyleModel",
      "state": {
       "description_width": ""
      }
     },
     "e7b9317613864120867dd05f15d03631": {
      "model_module": "@jupyter-widgets/base",
      "model_module_version": "1.2.0",
      "model_name": "LayoutModel",
      "state": {}
     },
     "e86f496c2ea1441f94a562f2e2fb4f2d": {
      "model_module": "@jupyter-widgets/controls",
      "model_module_version": "1.5.0",
      "model_name": "SliderStyleModel",
      "state": {
       "description_width": ""
      }
     },
     "eae2f2b6a2404562a0b6e80ba781e92d": {
      "model_module": "@jupyter-widgets/base",
      "model_module_version": "1.2.0",
      "model_name": "LayoutModel",
      "state": {}
     },
     "eb634bd818db43f2a4417634d8a26ac3": {
      "model_module": "@jupyter-widgets/base",
      "model_module_version": "1.2.0",
      "model_name": "LayoutModel",
      "state": {}
     },
     "ed08c67560f64292abb426d9a135bad6": {
      "model_module": "@jupyter-widgets/base",
      "model_module_version": "1.2.0",
      "model_name": "LayoutModel",
      "state": {}
     },
     "ed6d49ec433448119617c5d272013faf": {
      "model_module": "@jupyter-widgets/controls",
      "model_module_version": "1.5.0",
      "model_name": "SliderStyleModel",
      "state": {
       "description_width": ""
      }
     },
     "edb0429a071d430fa267e11a103f15e7": {
      "model_module": "@jupyter-widgets/controls",
      "model_module_version": "1.5.0",
      "model_name": "LabelModel",
      "state": {
       "layout": "IPY_MODEL_9c1fd95551944f25921a2dd542259e8f",
       "style": "IPY_MODEL_541194124c7f47a2a13199d26c5ada6d",
       "value": "(Units: temperature in ºF, rain in inches, plant age in weeks)"
      }
     },
     "eff67cbd6e0d449293b79d2af587976b": {
      "model_module": "@jupyter-widgets/controls",
      "model_module_version": "1.5.0",
      "model_name": "VBoxModel",
      "state": {
       "children": [
        "IPY_MODEL_4f02d0751c9e4315ad83fe0bddb8eee8",
        "IPY_MODEL_2c25f5ea3a6246e591f90f5ffd41966b",
        "IPY_MODEL_bba7f17ac0d847a38be7268f9f92b931",
        "IPY_MODEL_84f7d2bc2e634c6b95e1dedfcc3b0894",
        "IPY_MODEL_d25ffa69d2bd42c8a4df36932395437f",
        "IPY_MODEL_54e1089ca1b346839d0d66b1ff1d827a",
        "IPY_MODEL_d1d660fc534544bda16524cda28ae883"
       ],
       "layout": "IPY_MODEL_9ff8834af58b4d4e99b57dfec072a880"
      }
     },
     "f02d5f67044a4686b0bcac08f631690f": {
      "model_module": "@jupyter-widgets/controls",
      "model_module_version": "1.5.0",
      "model_name": "LabelModel",
      "state": {
       "layout": "IPY_MODEL_14b912fc86f0418f800518f40fb7e25d",
       "style": "IPY_MODEL_f723fcc7024040a495b3134bc5789e56",
       "value": "what you would like to predict its rhizosphere microbiome:"
      }
     },
     "f04479d018974ad7966008c09d3c3d32": {
      "model_module": "@jupyter-widgets/controls",
      "model_module_version": "1.5.0",
      "model_name": "SliderStyleModel",
      "state": {
       "description_width": ""
      }
     },
     "f049eb5c247d4a7bb590d6e6df6c67b9": {
      "model_module": "@jupyter-widgets/controls",
      "model_module_version": "1.5.0",
      "model_name": "DescriptionStyleModel",
      "state": {
       "description_width": ""
      }
     },
     "f0f806e6375142f689f497ff129d3ef4": {
      "model_module": "@jupyter-widgets/controls",
      "model_module_version": "1.5.0",
      "model_name": "SliderStyleModel",
      "state": {
       "description_width": ""
      }
     },
     "f1496b6901b8423b8ea3f0690faee14d": {
      "model_module": "@jupyter-widgets/controls",
      "model_module_version": "1.5.0",
      "model_name": "SliderStyleModel",
      "state": {
       "description_width": ""
      }
     },
     "f152e0f438ad41cc8e14d49522b8950e": {
      "model_module": "@jupyter-widgets/controls",
      "model_module_version": "1.5.0",
      "model_name": "VBoxModel",
      "state": {
       "children": [
        "IPY_MODEL_f58e8fdc3eb14598934b79ba25991749",
        "IPY_MODEL_7ce643c0699a460585767f73f81a3a45",
        "IPY_MODEL_f02d5f67044a4686b0bcac08f631690f",
        "IPY_MODEL_daac81e6f901426f8b5f0993d2052d13",
        "IPY_MODEL_34025975fe3a45daba62ff9f588dd04f",
        "IPY_MODEL_4beb848b4a4c49bb90c36a73ca7a5792",
        "IPY_MODEL_5f2d4edf537c41d8bfe86dfd9f48e29d"
       ],
       "layout": "IPY_MODEL_29a6be213f544063b971380490f81ab7"
      }
     },
     "f160226413b64f59acb95965592ff0ff": {
      "model_module": "@jupyter-widgets/controls",
      "model_module_version": "1.5.0",
      "model_name": "IntSliderModel",
      "state": {
       "description": "Plant age",
       "layout": "IPY_MODEL_50df50737eb7483f8525be509c999584",
       "max": 20,
       "min": 1,
       "style": "IPY_MODEL_f0f806e6375142f689f497ff129d3ef4",
       "value": 4
      }
     },
     "f1d056690a82448a8a85af82b2cbf82b": {
      "model_module": "@jupyter-widgets/controls",
      "model_module_version": "1.5.0",
      "model_name": "FloatSliderModel",
      "state": {
       "description": "Temperature",
       "layout": "IPY_MODEL_d22806f560254b328bebe7753802a630",
       "min": 40,
       "step": 0.1,
       "style": "IPY_MODEL_77aa15578b1043a0afd254d33e2147cf",
       "value": 60
      }
     },
     "f26e4e8f3b8c41b988d3b8ea358f9092": {
      "model_module": "@jupyter-widgets/base",
      "model_module_version": "1.2.0",
      "model_name": "LayoutModel",
      "state": {}
     },
     "f30e581743ad429086a8fd38072ce141": {
      "model_module": "@jupyter-widgets/controls",
      "model_module_version": "1.5.0",
      "model_name": "DescriptionStyleModel",
      "state": {
       "description_width": ""
      }
     },
     "f34a63dd06354bf3b1ed59207e67bbc6": {
      "model_module": "@jupyter-widgets/base",
      "model_module_version": "1.2.0",
      "model_name": "LayoutModel",
      "state": {}
     },
     "f3fbb263c742406294d4d5a4506c6b44": {
      "model_module": "@jupyter-widgets/controls",
      "model_module_version": "1.5.0",
      "model_name": "IntSliderModel",
      "state": {
       "description": "Plant age",
       "layout": "IPY_MODEL_23410f0537ee4aa7ae877dd067ca3edb",
       "max": 20,
       "min": 1,
       "style": "IPY_MODEL_191b73cecbd741caa71660991cc226d1",
       "value": 4
      }
     },
     "f50ddd9d432348519a83e2b674065f26": {
      "model_module": "@jupyter-widgets/base",
      "model_module_version": "1.2.0",
      "model_name": "LayoutModel",
      "state": {}
     },
     "f53cd04c420f4271b58870f999ba4b94": {
      "model_module": "@jupyter-widgets/controls",
      "model_module_version": "1.5.0",
      "model_name": "SliderStyleModel",
      "state": {
       "description_width": ""
      }
     },
     "f58e8fdc3eb14598934b79ba25991749": {
      "model_module": "@jupyter-widgets/controls",
      "model_module_version": "1.5.0",
      "model_name": "LabelModel",
      "state": {
       "layout": "IPY_MODEL_08b1b17cb7634aa5a3905aef977731db",
       "style": "IPY_MODEL_ff97850fcdfc4b538959c7929e50ab46",
       "value": "\\(\\textbf{Introduce environmental features values}\\)"
      }
     },
     "f66a34694160482d9f245b8e8eff6967": {
      "model_module": "@jupyter-widgets/base",
      "model_module_version": "1.2.0",
      "model_name": "LayoutModel",
      "state": {}
     },
     "f6a8f44a5a99422a8304b767c49c4fd8": {
      "model_module": "@jupyter-widgets/base",
      "model_module_version": "1.2.0",
      "model_name": "LayoutModel",
      "state": {}
     },
     "f723fcc7024040a495b3134bc5789e56": {
      "model_module": "@jupyter-widgets/controls",
      "model_module_version": "1.5.0",
      "model_name": "DescriptionStyleModel",
      "state": {
       "description_width": ""
      }
     },
     "f75fec480e1e42489babac32a0f98098": {
      "model_module": "@jupyter-widgets/base",
      "model_module_version": "1.2.0",
      "model_name": "LayoutModel",
      "state": {}
     },
     "f76c17114483439a970159822512c04f": {
      "model_module": "@jupyter-widgets/controls",
      "model_module_version": "1.5.0",
      "model_name": "FloatSliderModel",
      "state": {
       "description": "T",
       "layout": "IPY_MODEL_451ce478f8e94e5da499fce80427baa2",
       "min": 40,
       "step": 0.1,
       "style": "IPY_MODEL_f04479d018974ad7966008c09d3c3d32",
       "value": 60
      }
     },
     "f8023ef80f8b47a78f32f6e3c0fbebec": {
      "model_module": "@jupyter-widgets/controls",
      "model_module_version": "1.5.0",
      "model_name": "DescriptionStyleModel",
      "state": {
       "description_width": ""
      }
     },
     "f86ede8773a5433a8795748de3656a50": {
      "model_module": "@jupyter-widgets/controls",
      "model_module_version": "1.5.0",
      "model_name": "IntSliderModel",
      "state": {
       "description": "Plant age",
       "layout": "IPY_MODEL_e7b9317613864120867dd05f15d03631",
       "max": 20,
       "min": 1,
       "style": "IPY_MODEL_4a281094b47a43549783fd07a3f3b3a8",
       "value": 4
      }
     },
     "f883b9c739964982becf30df5c3c17e9": {
      "model_module": "@jupyter-widgets/controls",
      "model_module_version": "1.5.0",
      "model_name": "DescriptionStyleModel",
      "state": {
       "description_width": ""
      }
     },
     "f9e2ee32def3407d8f9f3646030ba728": {
      "model_module": "@jupyter-widgets/base",
      "model_module_version": "1.2.0",
      "model_name": "LayoutModel",
      "state": {}
     },
     "fa6f67f117504cd1a6922f05d90b67ee": {
      "model_module": "@jupyter-widgets/controls",
      "model_module_version": "1.5.0",
      "model_name": "SliderStyleModel",
      "state": {
       "description_width": ""
      }
     },
     "fa76915f633146828891914c5a01f6d3": {
      "model_module": "@jupyter-widgets/controls",
      "model_module_version": "1.5.0",
      "model_name": "IntSliderModel",
      "state": {
       "description": "Plant age",
       "layout": "IPY_MODEL_f6a8f44a5a99422a8304b767c49c4fd8",
       "max": 20,
       "min": 1,
       "style": "IPY_MODEL_a089aa6a1e044b7384eefd5f6b79a3b3",
       "value": 15
      }
     },
     "fc8eec3397394ac0a181e2330153a12a": {
      "model_module": "@jupyter-widgets/base",
      "model_module_version": "1.2.0",
      "model_name": "LayoutModel",
      "state": {}
     },
     "fcc52a3a0ab549f686affdb42a46361c": {
      "model_module": "@jupyter-widgets/controls",
      "model_module_version": "1.5.0",
      "model_name": "DescriptionStyleModel",
      "state": {
       "description_width": ""
      }
     },
     "fd80c2d7323842b99c6d029975cee9c5": {
      "model_module": "@jupyter-widgets/controls",
      "model_module_version": "1.5.0",
      "model_name": "DescriptionStyleModel",
      "state": {
       "description_width": ""
      }
     },
     "fe089f6b463e4b948644a5b40c4d18dd": {
      "model_module": "@jupyter-widgets/controls",
      "model_module_version": "1.5.0",
      "model_name": "FloatSliderModel",
      "state": {
       "description": "Temperature",
       "layout": "IPY_MODEL_d21ca99e497a40609caca8d08a2166aa",
       "min": 40,
       "step": 0.1,
       "style": "IPY_MODEL_a19afcfe6ca74e9686846ce3955b7ab7",
       "value": 60
      }
     },
     "ff97850fcdfc4b538959c7929e50ab46": {
      "model_module": "@jupyter-widgets/controls",
      "model_module_version": "1.5.0",
      "model_name": "DescriptionStyleModel",
      "state": {
       "description_width": ""
      }
     }
    },
    "version_major": 2,
    "version_minor": 0
   }
  }
 },
 "nbformat": 4,
 "nbformat_minor": 4
}
