{
 "cells": [
  {
   "cell_type": "markdown",
   "metadata": {},
   "source": [
    "## Import libraries"
   ]
  },
  {
   "cell_type": "code",
   "execution_count": 84,
   "metadata": {},
   "outputs": [],
   "source": [
    "#nbi:hide_in\n",
    "\n",
    "import numpy as np\n",
    "import pandas as pd\n",
    "import tensorflow as tf\n",
    "import tensorflow.keras as keras\n",
    "from tensorflow.keras import layers\n",
    "from ipywidgets import interact, widgets\n",
    "import rpy2.rinterface"
   ]
  },
  {
   "cell_type": "code",
   "execution_count": 85,
   "metadata": {
    "pycharm": {
     "name": "#%%\n"
    }
   },
   "outputs": [
    {
     "name": "stdout",
     "output_type": "stream",
     "text": [
      "The rpy2.ipython extension is already loaded. To reload it, use:\n",
      "  %reload_ext rpy2.ipython\n"
     ]
    }
   ],
   "source": [
    "np.set_printoptions(precision=4)\n",
    "np.set_printoptions(suppress=True)\n",
    "%load_ext rpy2.ipython"
   ]
  },
  {
   "cell_type": "markdown",
   "metadata": {},
   "source": [
    "# Novel samples: prediction of novel ecosystems"
   ]
  },
  {
   "cell_type": "code",
   "execution_count": 86,
   "metadata": {},
   "outputs": [
    {
     "data": {
      "application/vnd.jupyter.widget-view+json": {
       "model_id": "0b7a08d91a05406bbbbd9dfd3507d364",
       "version_major": 2,
       "version_minor": 0
      },
      "text/plain": [
       "VBox(children=(Label(value='Please, select the environmental features associated to the maize plant/soil to wh…"
      ]
     },
     "metadata": {},
     "output_type": "display_data"
    }
   ],
   "source": [
    "# Interface to ask for age, temperature and precipitations3Days (with unit and valid range) \n",
    "# https://ipywidgets.readthedocs.io/en/stable/examples/Widget%20List.html#IntSlider\n",
    "\n",
    "a = widgets.FloatSlider(min=40,max=100,value=60)\n",
    "b = widgets.FloatSlider(min=0,max=5,value=1.5)\n",
    "c = widgets.IntSlider(min=1,max=20,value=4)\n",
    "\n",
    "\n",
    "accordion = widgets.Accordion(children=[a,b,c])\n",
    "accordion.set_title(0, 'Temperature (ºF):')\n",
    "accordion.set_title(1, 'Precipitations 3 days (inches):')\n",
    "accordion.set_title(2, 'Plant age (weeks):')\n",
    "accordion\n",
    "\n",
    "#out = widgets.interactive_output(f, {'a': a, 'b': b, 'c': c})\n",
    "\n",
    "t = widgets.Label(value=\"Please, select the environmental features associated to the maize plant/soil to what you would like to predict its rhizosphere microbiome:\")\n",
    "\n",
    "widgets.VBox([t, accordion])\n",
    "\n",
    "\n",
    "\n"
   ]
  },
  {
   "cell_type": "code",
   "execution_count": 88,
   "metadata": {},
   "outputs": [],
   "source": [
    "temp=a.value\n",
    "rain=b.value\n",
    "age=c.value"
   ]
  },
  {
   "cell_type": "code",
   "execution_count": 89,
   "metadata": {},
   "outputs": [
    {
     "data": {
      "text/html": [
       "<div>\n",
       "<style scoped>\n",
       "    .dataframe tbody tr th:only-of-type {\n",
       "        vertical-align: middle;\n",
       "    }\n",
       "\n",
       "    .dataframe tbody tr th {\n",
       "        vertical-align: top;\n",
       "    }\n",
       "\n",
       "    .dataframe thead th {\n",
       "        text-align: right;\n",
       "    }\n",
       "</style>\n",
       "<table border=\"1\" class=\"dataframe\">\n",
       "  <thead>\n",
       "    <tr style=\"text-align: right;\">\n",
       "      <th></th>\n",
       "      <th>age</th>\n",
       "      <th>Temperature</th>\n",
       "      <th>Precipitation3Days</th>\n",
       "    </tr>\n",
       "    <tr>\n",
       "      <th>X.SampleID</th>\n",
       "      <th></th>\n",
       "      <th></th>\n",
       "      <th></th>\n",
       "    </tr>\n",
       "  </thead>\n",
       "  <tbody>\n",
       "    <tr>\n",
       "      <th>new01</th>\n",
       "      <td>1</td>\n",
       "      <td>86.7</td>\n",
       "      <td>2.6</td>\n",
       "    </tr>\n",
       "  </tbody>\n",
       "</table>\n",
       "</div>"
      ],
      "text/plain": [
       "            age  Temperature  Precipitation3Days\n",
       "X.SampleID                                      \n",
       "new01         1         86.7                 2.6"
      ]
     },
     "execution_count": 89,
     "metadata": {},
     "output_type": "execute_result"
    }
   ],
   "source": [
    "metadata = pd.DataFrame({'X.SampleID': ['new01'], 'age': [age], 'Temperature': [temp], 'Precipitation3Days':[rain]}, \n",
    "                  columns=['X.SampleID','age','Temperature','Precipitation3Days'])\n",
    "metadata = metadata.set_index('X.SampleID')\n",
    "domain = metadata[['age',\n",
    "                   'Temperature',\n",
    "                   'Precipitation3Days']]\n",
    "domain"
   ]
  },
  {
   "cell_type": "code",
   "execution_count": 90,
   "metadata": {},
   "outputs": [
    {
     "data": {
      "text/plain": [
       "(1, 3)"
      ]
     },
     "execution_count": 90,
     "metadata": {},
     "output_type": "execute_result"
    }
   ],
   "source": [
    "metadata.shape"
   ]
  },
  {
   "cell_type": "code",
   "execution_count": 91,
   "metadata": {},
   "outputs": [],
   "source": [
    "domain_novel_samples = domain.to_numpy(dtype=np.float32)"
   ]
  },
  {
   "cell_type": "markdown",
   "metadata": {},
   "source": [
    "#### Load models"
   ]
  },
  {
   "cell_type": "code",
   "execution_count": 92,
   "metadata": {},
   "outputs": [
    {
     "name": "stdout",
     "output_type": "stream",
     "text": [
      "WARNING:tensorflow:No training configuration found in save file: the model was *not* compiled. Compile it manually.\n"
     ]
    }
   ],
   "source": [
    "decoder = tf.keras.models.load_model('Models/decoder.h5')\n",
    "encoder_domain = tf.keras.models.load_model('Models/encoder_domain_model_latent.h5')"
   ]
  },
  {
   "cell_type": "markdown",
   "metadata": {},
   "source": [
    "#### Compute new predictions"
   ]
  },
  {
   "cell_type": "code",
   "execution_count": 93,
   "metadata": {},
   "outputs": [],
   "source": [
    "# Input only domain (i.e. environmental features)\n",
    "pred_latent_novel_samples = encoder_domain.predict(domain_novel_samples)\n",
    "pred_domain_novel_samples = decoder.predict(pred_latent_novel_samples)"
   ]
  },
  {
   "cell_type": "code",
   "execution_count": 94,
   "metadata": {},
   "outputs": [],
   "source": [
    "def save_predicted_otu_table(pred,sample_names,otu_names,suffix=''):\n",
    "    df_otu = pd.DataFrame(pred, index=sample_names, columns=otu_names)\n",
    "    df_otu.T.to_csv('abundances_'+suffix+'.tsv', index=True, header=True, sep='\\t')\n",
    "  \n",
    "    return df_otu"
   ]
  },
  {
   "cell_type": "code",
   "execution_count": 95,
   "metadata": {},
   "outputs": [],
   "source": [
    "# Get otu IDs\n",
    "otu = pd.read_csv('otu_column_otuids.csv', index_col=0, header=None, sep='\\t').T\n",
    "otu = otu.set_index('otuids')\n",
    "otuids = otu.columns"
   ]
  },
  {
   "cell_type": "code",
   "execution_count": 96,
   "metadata": {},
   "outputs": [
    {
     "data": {
      "text/plain": [
       "Index(['4479944', '513055', '519510', '810959', '849092', '1042671', '818174',\n",
       "       '585221', '1033380', '875704',\n",
       "       ...\n",
       "       '966091', '55354', '515709', '902698', '591499', '569066', '823091',\n",
       "       '219094', '961783', '823633'],\n",
       "      dtype='object', name=0, length=717)"
      ]
     },
     "execution_count": 96,
     "metadata": {},
     "output_type": "execute_result"
    }
   ],
   "source": [
    "otuids"
   ]
  },
  {
   "cell_type": "code",
   "execution_count": 97,
   "metadata": {},
   "outputs": [],
   "source": [
    "df_pred_otu = save_predicted_otu_table(pred_domain_novel_samples,domain.index,otuids,'predicted_otus_novel_features')"
   ]
  },
  {
   "cell_type": "code",
   "execution_count": 98,
   "metadata": {},
   "outputs": [
    {
     "data": {
      "text/plain": [
       "(1, 717)"
      ]
     },
     "execution_count": 98,
     "metadata": {},
     "output_type": "execute_result"
    }
   ],
   "source": [
    "pred_domain_novel_samples.shape"
   ]
  },
  {
   "cell_type": "code",
   "execution_count": 99,
   "metadata": {},
   "outputs": [
    {
     "data": {
      "text/plain": [
       "array([[0.0009, 0.    , 0.0023, 0.    , 0.0015, 0.    , 0.002 , 0.    ,\n",
       "        0.    , 0.0002, 0.0008, 0.    , 0.    , 0.0015, 0.0029, 0.    ,\n",
       "        0.0012, 0.    , 0.0027, 0.    , 0.0021, 0.0009, 0.    , 0.0024,\n",
       "        0.0031, 0.0001, 0.0003, 0.0049, 0.0048, 0.0002, 0.0002, 0.0017,\n",
       "        0.0009, 0.0077, 0.0005, 0.0001, 0.0009, 0.0005, 0.0005, 0.    ,\n",
       "        0.0008, 0.0014, 0.0002, 0.0006, 0.0051, 0.0009, 0.0002, 0.    ,\n",
       "        0.0009, 0.0001, 0.0009, 0.0061, 0.    , 0.    , 0.    , 0.0008,\n",
       "        0.01  , 0.0011, 0.0023, 0.    , 0.    , 0.0006, 0.0049, 0.0005,\n",
       "        0.    , 0.    , 0.0011, 0.0008, 0.0008, 0.0001, 0.    , 0.    ,\n",
       "        0.0011, 0.    , 0.0003, 0.    , 0.0002, 0.    , 0.0005, 0.0004,\n",
       "        0.    , 0.0006, 0.0072, 0.003 , 0.0016, 0.0009, 0.0017, 0.    ,\n",
       "        0.0225, 0.0006, 0.    , 0.0027, 0.0003, 0.0021, 0.0003, 0.0012,\n",
       "        0.    , 0.0042, 0.0008, 0.0001, 0.    , 0.    , 0.0004, 0.0075,\n",
       "        0.0074, 0.0009, 0.    , 0.0001, 0.0005, 0.    , 0.    , 0.0007,\n",
       "        0.    , 0.    , 0.0019, 0.0029, 0.0027, 0.0016, 0.0036, 0.    ,\n",
       "        0.0157, 0.    , 0.    , 0.0042, 0.0002, 0.    , 0.    , 0.0022,\n",
       "        0.0031, 0.0016, 0.0012, 0.001 , 0.0004, 0.    , 0.0006, 0.0005,\n",
       "        0.    , 0.    , 0.0003, 0.    , 0.0012, 0.    , 0.0002, 0.0022,\n",
       "        0.0024, 0.    , 0.0013, 0.    , 0.0009, 0.0011, 0.    , 0.    ,\n",
       "        0.0016, 0.0002, 0.001 , 0.0002, 0.0007, 0.    , 0.    , 0.    ,\n",
       "        0.    , 0.0011, 0.0014, 0.0006, 0.    , 0.0023, 0.0004, 0.0006,\n",
       "        0.    , 0.    , 0.0031, 0.    , 0.    , 0.0009, 0.0087, 0.0002,\n",
       "        0.0001, 0.    , 0.    , 0.0001, 0.0006, 0.0004, 0.0006, 0.008 ,\n",
       "        0.0003, 0.0027, 0.0001, 0.0003, 0.002 , 0.005 , 0.0028, 0.    ,\n",
       "        0.    , 0.    , 0.0048, 0.0002, 0.    , 0.    , 0.0035, 0.0003,\n",
       "        0.0001, 0.0004, 0.0001, 0.0001, 0.0001, 0.0008, 0.0007, 0.0037,\n",
       "        0.0002, 0.    , 0.0023, 0.    , 0.0003, 0.0011, 0.0003, 0.0013,\n",
       "        0.0229, 0.0012, 0.    , 0.    , 0.0013, 0.0013, 0.0044, 0.0012,\n",
       "        0.    , 0.    , 0.0001, 0.    , 0.    , 0.    , 0.0006, 0.0002,\n",
       "        0.0017, 0.0053, 0.0002, 0.0028, 0.0004, 0.002 , 0.0015, 0.    ,\n",
       "        0.0025, 0.0009, 0.    , 0.    , 0.    , 0.0008, 0.0001, 0.0005,\n",
       "        0.    , 0.0009, 0.    , 0.001 , 0.0009, 0.0003, 0.0028, 0.0004,\n",
       "        0.0054, 0.0003, 0.004 , 0.0002, 0.0013, 0.0008, 0.0027, 0.    ,\n",
       "        0.0021, 0.0016, 0.002 , 0.0009, 0.0044, 0.    , 0.    , 0.    ,\n",
       "        0.    , 0.001 , 0.001 , 0.0006, 0.    , 0.0002, 0.0008, 0.    ,\n",
       "        0.0067, 0.0015, 0.0002, 0.0006, 0.    , 0.0001, 0.0009, 0.    ,\n",
       "        0.0034, 0.    , 0.0003, 0.    , 0.    , 0.0002, 0.    , 0.0001,\n",
       "        0.0036, 0.0006, 0.0003, 0.0003, 0.0001, 0.    , 0.0021, 0.0003,\n",
       "        0.0006, 0.0025, 0.0077, 0.0001, 0.0007, 0.0084, 0.    , 0.    ,\n",
       "        0.0008, 0.    , 0.0002, 0.001 , 0.    , 0.0038, 0.    , 0.    ,\n",
       "        0.    , 0.0006, 0.    , 0.0034, 0.004 , 0.    , 0.0001, 0.    ,\n",
       "        0.0003, 0.0001, 0.    , 0.0044, 0.0005, 0.0005, 0.0002, 0.0054,\n",
       "        0.001 , 0.0017, 0.0002, 0.0009, 0.0031, 0.0078, 0.0003, 0.    ,\n",
       "        0.    , 0.0002, 0.0028, 0.0002, 0.0002, 0.0026, 0.0001, 0.    ,\n",
       "        0.0008, 0.0106, 0.0001, 0.0014, 0.0273, 0.0023, 0.0002, 0.0018,\n",
       "        0.    , 0.0002, 0.    , 0.0005, 0.0043, 0.    , 0.0014, 0.0028,\n",
       "        0.    , 0.    , 0.0013, 0.0006, 0.0001, 0.    , 0.002 , 0.001 ,\n",
       "        0.0001, 0.    , 0.0003, 0.    , 0.    , 0.0005, 0.    , 0.0014,\n",
       "        0.0013, 0.0049, 0.001 , 0.    , 0.0015, 0.0004, 0.    , 0.    ,\n",
       "        0.    , 0.    , 0.0013, 0.    , 0.    , 0.0018, 0.    , 0.0007,\n",
       "        0.0006, 0.0137, 0.0011, 0.0002, 0.0001, 0.0005, 0.    , 0.0005,\n",
       "        0.    , 0.    , 0.002 , 0.0023, 0.0007, 0.    , 0.0013, 0.0024,\n",
       "        0.    , 0.0019, 0.0055, 0.0011, 0.0011, 0.0007, 0.0009, 0.0002,\n",
       "        0.0013, 0.    , 0.0009, 0.0003, 0.    , 0.    , 0.0007, 0.0005,\n",
       "        0.    , 0.    , 0.    , 0.    , 0.0023, 0.0004, 0.002 , 0.    ,\n",
       "        0.0013, 0.004 , 0.    , 0.0006, 0.0006, 0.    , 0.    , 0.0003,\n",
       "        0.0014, 0.0021, 0.0003, 0.    , 0.    , 0.0005, 0.    , 0.0003,\n",
       "        0.0016, 0.0003, 0.    , 0.    , 0.0018, 0.    , 0.0001, 0.0004,\n",
       "        0.0003, 0.    , 0.0002, 0.    , 0.002 , 0.0003, 0.0006, 0.    ,\n",
       "        0.    , 0.0006, 0.    , 0.    , 0.0011, 0.0031, 0.0001, 0.    ,\n",
       "        0.0005, 0.    , 0.    , 0.0013, 0.0002, 0.0006, 0.0009, 0.    ,\n",
       "        0.0001, 0.0001, 0.0041, 0.0013, 0.    , 0.0011, 0.0002, 0.0131,\n",
       "        0.    , 0.002 , 0.001 , 0.002 , 0.0026, 0.0003, 0.0028, 0.    ,\n",
       "        0.0003, 0.0027, 0.0085, 0.0077, 0.    , 0.0013, 0.0021, 0.0004,\n",
       "        0.0004, 0.0003, 0.0003, 0.001 , 0.0027, 0.    , 0.    , 0.0014,\n",
       "        0.    , 0.0009, 0.    , 0.0009, 0.    , 0.0019, 0.0119, 0.0012,\n",
       "        0.0001, 0.    , 0.    , 0.0014, 0.    , 0.0015, 0.0046, 0.0276,\n",
       "        0.0001, 0.017 , 0.0034, 0.0033, 0.0063, 0.    , 0.0002, 0.0059,\n",
       "        0.    , 0.    , 0.0021, 0.    , 0.0007, 0.    , 0.0014, 0.0006,\n",
       "        0.    , 0.    , 0.    , 0.    , 0.0011, 0.0017, 0.0034, 0.    ,\n",
       "        0.0066, 0.0079, 0.0003, 0.0008, 0.    , 0.0094, 0.0003, 0.    ,\n",
       "        0.0001, 0.0006, 0.    , 0.    , 0.    , 0.0004, 0.0019, 0.    ,\n",
       "        0.0013, 0.0085, 0.    , 0.0017, 0.0002, 0.0021, 0.0039, 0.0003,\n",
       "        0.0009, 0.0012, 0.0087, 0.0033, 0.    , 0.    , 0.0009, 0.0001,\n",
       "        0.0015, 0.0005, 0.    , 0.0008, 0.0014, 0.0027, 0.0005, 0.0006,\n",
       "        0.0142, 0.0001, 0.0025, 0.002 , 0.0012, 0.0003, 0.    , 0.0056,\n",
       "        0.0034, 0.    , 0.0008, 0.0018, 0.0048, 0.0001, 0.0285, 0.    ,\n",
       "        0.0001, 0.    , 0.0017, 0.    , 0.0002, 0.0098, 0.    , 0.    ,\n",
       "        0.0012, 0.    , 0.0007, 0.    , 0.    , 0.    , 0.001 , 0.0005,\n",
       "        0.0041, 0.0014, 0.0006, 0.0001, 0.0175, 0.    , 0.001 , 0.0012,\n",
       "        0.    , 0.    , 0.0004, 0.0001, 0.0005, 0.0005, 0.0001, 0.    ,\n",
       "        0.    , 0.0005, 0.    , 0.    , 0.0015, 0.    , 0.0011, 0.    ,\n",
       "        0.0003, 0.0003, 0.0097, 0.0017, 0.001 , 0.0038, 0.    , 0.0005,\n",
       "        0.0001, 0.0013, 0.0001, 0.002 , 0.0025, 0.0025, 0.0002, 0.    ,\n",
       "        0.0002, 0.0001, 0.0012, 0.001 , 0.    , 0.    , 0.0014, 0.0001,\n",
       "        0.    , 0.    , 0.0025, 0.    , 0.0003, 0.0007, 0.0001, 0.    ,\n",
       "        0.0021, 0.    , 0.    , 0.0001, 0.    , 0.0005, 0.002 , 0.0001,\n",
       "        0.    , 0.0003, 0.005 , 0.0001, 0.    , 0.0018, 0.    , 0.    ,\n",
       "        0.    , 0.    , 0.0009, 0.0006, 0.0011, 0.0003, 0.0032, 0.0003,\n",
       "        0.0007, 0.0007, 0.    , 0.0078, 0.0001]], dtype=float32)"
      ]
     },
     "execution_count": 99,
     "metadata": {},
     "output_type": "execute_result"
    }
   ],
   "source": [
    "pred_domain_novel_samples"
   ]
  },
  {
   "cell_type": "code",
   "execution_count": 100,
   "metadata": {},
   "outputs": [],
   "source": [
    "### TO-DO: call R script to plot some phylosep plot\n",
    "### To get phyloseq object, taking code from: https://github.com/jorgemf/DeepLatentMicrobiome/blob/master/Src/plot_novel_samples_predictions_radarchart.r\n",
    "#file_tax = '../Datasets/tax_table_all_80_cleanNames.csv'\n",
    "#physeq_pred = build_physeq_object('../Results/otus_predFromDomain_novelSamples_byHandAPIvalues.tsv','../Datasets/metadata_novel_samples_byHandAPIvalues_only3envFeatures.csv',file_tax)\n"
   ]
  },
  {
   "cell_type": "code",
   "execution_count": 101,
   "metadata": {},
   "outputs": [],
   "source": [
    "%%R\n",
    "source('Src/functionsR_plotMicrobiome.r')"
   ]
  },
  {
   "cell_type": "code",
   "execution_count": 102,
   "metadata": {},
   "outputs": [],
   "source": [
    "%Rpush temp rain age"
   ]
  },
  {
   "cell_type": "code",
   "execution_count": 105,
   "metadata": {},
   "outputs": [
    {
     "data": {
      "image/png": "[encoded data removed]"
     },
     "metadata": {},
     "output_type": "display_data"
    }
   ],
   "source": [
    "%%R\n",
    "physeq_pred = build_physeq_object_otu_tax('abundances_predicted_otus_novel_features.tsv','tax_table_cleanNames.csv')\n",
    "plot_taxa_agg(physeq_pred,\"Class\",temp,rain,age)"
   ]
  },
  {
   "cell_type": "code",
   "execution_count": null,
   "metadata": {},
   "outputs": [],
   "source": []
  }
 ],
 "metadata": {
  "kernelspec": {
   "display_name": "Python 3",
   "language": "python",
   "name": "python3"
  },
  "language_info": {
   "codemirror_mode": {
    "name": "ipython",
    "version": 3
   },
   "file_extension": ".py",
   "mimetype": "text/x-python",
   "name": "python",
   "nbconvert_exporter": "python",
   "pygments_lexer": "ipython3",
   "version": "3.6.9"
  }
 },
 "nbformat": 4,
 "nbformat_minor": 4
}
