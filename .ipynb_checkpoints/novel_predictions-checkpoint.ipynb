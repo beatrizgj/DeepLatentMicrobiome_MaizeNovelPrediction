{
 "cells": [
  {
   "cell_type": "markdown",
   "metadata": {},
   "source": [
    "## Import libraries"
   ]
  },
  {
   "cell_type": "code",
   "execution_count": 2,
   "metadata": {},
   "outputs": [],
   "source": [
    "import numpy as np\n",
    "import pandas as pd\n",
    "import tensorflow as tf\n",
    "import tensorflow.keras as keras\n",
    "from tensorflow.keras import layers\n",
    "from ipywidgets import interact, widgets"
   ]
  },
  {
   "cell_type": "code",
   "execution_count": 3,
   "metadata": {
    "pycharm": {
     "name": "#%%\n"
    }
   },
   "outputs": [],
   "source": [
    "np.set_printoptions(precision=4)\n",
    "np.set_printoptions(suppress=True)"
   ]
  },
  {
   "cell_type": "markdown",
   "metadata": {},
   "source": [
    "# Novel samples: prediction of novel ecosystems"
   ]
  },
  {
   "cell_type": "code",
   "execution_count": 4,
   "metadata": {},
   "outputs": [
    {
     "data": {
      "application/vnd.jupyter.widget-view+json": {
       "model_id": "37c0ef08ea6643c79f8951e9761fac61",
       "version_major": 2,
       "version_minor": 0
      },
      "text/plain": [
       "VBox(children=(Label(value='Please, select the environmental features associated to the maize plant/soil to wh…"
      ]
     },
     "metadata": {},
     "output_type": "display_data"
    }
   ],
   "source": [
    "# Interface to ask for age, temperature and precipitations3Days (with unit and valid range) \n",
    "# https://ipywidgets.readthedocs.io/en/stable/examples/Widget%20List.html#IntSlider\n",
    "\n",
    "a = widgets.FloatSlider(min=40,max=100,value=60)\n",
    "b = widgets.FloatSlider(min=0,max=5,value=1.5)\n",
    "c = widgets.IntSlider(min=1,max=20,value=4)\n",
    "\n",
    "\n",
    "accordion = widgets.Accordion(children=[a,b,c])\n",
    "accordion.set_title(0, 'Temperature (ºF):')\n",
    "accordion.set_title(1, 'Precipitations 3 days (inches):')\n",
    "accordion.set_title(2, 'Plant age (weeks):')\n",
    "accordion\n",
    "\n",
    "#out = widgets.interactive_output(f, {'a': a, 'b': b, 'c': c})\n",
    "\n",
    "t = widgets.Label(value=\"Please, select the environmental features associated to the maize plant/soil to what you would like to predict its rhizosphere microbiome:\")\n",
    "\n",
    "widgets.VBox([t, accordion])\n",
    "\n",
    "\n",
    "\n"
   ]
  },
  {
   "cell_type": "code",
   "execution_count": 5,
   "metadata": {},
   "outputs": [],
   "source": [
    "temp=a.value\n",
    "rain=b.value\n",
    "age=c.value"
   ]
  },
  {
   "cell_type": "code",
   "execution_count": 6,
   "metadata": {},
   "outputs": [
    {
     "data": {
      "text/html": [
       "<div>\n",
       "<style scoped>\n",
       "    .dataframe tbody tr th:only-of-type {\n",
       "        vertical-align: middle;\n",
       "    }\n",
       "\n",
       "    .dataframe tbody tr th {\n",
       "        vertical-align: top;\n",
       "    }\n",
       "\n",
       "    .dataframe thead th {\n",
       "        text-align: right;\n",
       "    }\n",
       "</style>\n",
       "<table border=\"1\" class=\"dataframe\">\n",
       "  <thead>\n",
       "    <tr style=\"text-align: right;\">\n",
       "      <th></th>\n",
       "      <th>age</th>\n",
       "      <th>Temperature</th>\n",
       "      <th>Precipitation3Days</th>\n",
       "    </tr>\n",
       "    <tr>\n",
       "      <th>X.SampleID</th>\n",
       "      <th></th>\n",
       "      <th></th>\n",
       "      <th></th>\n",
       "    </tr>\n",
       "  </thead>\n",
       "  <tbody>\n",
       "    <tr>\n",
       "      <th>new01</th>\n",
       "      <td>17</td>\n",
       "      <td>90.1</td>\n",
       "      <td>4.4</td>\n",
       "    </tr>\n",
       "  </tbody>\n",
       "</table>\n",
       "</div>"
      ],
      "text/plain": [
       "            age  Temperature  Precipitation3Days\n",
       "X.SampleID                                      \n",
       "new01        17         90.1                 4.4"
      ]
     },
     "execution_count": 6,
     "metadata": {},
     "output_type": "execute_result"
    }
   ],
   "source": [
    "metadata = pd.DataFrame({'X.SampleID': ['new01'], 'age': [age], 'Temperature': [temp], 'Precipitation3Days':[rain]}, \n",
    "                  columns=['X.SampleID','age','Temperature','Precipitation3Days'])\n",
    "metadata = metadata.set_index('X.SampleID')\n",
    "domain = metadata[['age',\n",
    "                   'Temperature',\n",
    "                   'Precipitation3Days']]\n",
    "domain"
   ]
  },
  {
   "cell_type": "code",
   "execution_count": 7,
   "metadata": {},
   "outputs": [
    {
     "data": {
      "text/plain": [
       "(1, 3)"
      ]
     },
     "execution_count": 7,
     "metadata": {},
     "output_type": "execute_result"
    }
   ],
   "source": [
    "metadata.shape"
   ]
  },
  {
   "cell_type": "code",
   "execution_count": 8,
   "metadata": {},
   "outputs": [],
   "source": [
    "domain_novel_samples = domain.to_numpy(dtype=np.float32)"
   ]
  },
  {
   "cell_type": "markdown",
   "metadata": {},
   "source": [
    "#### Load models"
   ]
  },
  {
   "cell_type": "code",
   "execution_count": 9,
   "metadata": {},
   "outputs": [
    {
     "name": "stdout",
     "output_type": "stream",
     "text": [
      "WARNING:tensorflow:No training configuration found in save file: the model was *not* compiled. Compile it manually.\n"
     ]
    }
   ],
   "source": [
    "decoder = tf.keras.models.load_model('Models/decoder.h5')\n",
    "encoder_domain = tf.keras.models.load_model('Models/encoder_domain_model_latent.h5')"
   ]
  },
  {
   "cell_type": "markdown",
   "metadata": {},
   "source": [
    "#### Compute new predictions"
   ]
  },
  {
   "cell_type": "code",
   "execution_count": 10,
   "metadata": {},
   "outputs": [],
   "source": [
    "# Input only domain (i.e. environmental features)\n",
    "pred_latent_novel_samples = encoder_domain.predict(domain_novel_samples)\n",
    "pred_domain_novel_samples = decoder.predict(pred_latent_novel_samples)"
   ]
  },
  {
   "cell_type": "code",
   "execution_count": 11,
   "metadata": {},
   "outputs": [],
   "source": [
    "def save_predicted_otu_table(pred,sample_names,otu_names,suffix=''):\n",
    "    df_otu = pd.DataFrame(pred, index=sample_names, columns=otu_names)\n",
    "    df_otu.T.to_csv('otus_'+suffix+'.tsv', index=True, header=True, sep='\\t')\n",
    "  \n",
    "    return df_otu"
   ]
  },
  {
   "cell_type": "code",
   "execution_count": 12,
   "metadata": {},
   "outputs": [],
   "source": [
    "# Get otu IDs\n",
    "otu = pd.read_csv('otu_column_otuids.csv', index_col=0, header=None, sep='\\t').T\n",
    "otu = otu.set_index('otuids')\n",
    "otuids = otu.columns"
   ]
  },
  {
   "cell_type": "code",
   "execution_count": 13,
   "metadata": {},
   "outputs": [
    {
     "data": {
      "text/plain": [
       "Index(['4479944', '513055', '519510', '810959', '849092', '1042671', '818174',\n",
       "       '585221', '1033380', '875704',\n",
       "       ...\n",
       "       '966091', '55354', '515709', '902698', '591499', '569066', '823091',\n",
       "       '219094', '961783', '823633'],\n",
       "      dtype='object', name=0, length=717)"
      ]
     },
     "execution_count": 13,
     "metadata": {},
     "output_type": "execute_result"
    }
   ],
   "source": [
    "otuids"
   ]
  },
  {
   "cell_type": "code",
   "execution_count": 14,
   "metadata": {},
   "outputs": [],
   "source": [
    "df_pred_otu = save_predicted_otu_table(pred_domain_novel_samples,domain.index,otuids,'predFromDomain_novelSamples_byHandAPIvalues')"
   ]
  },
  {
   "cell_type": "code",
   "execution_count": 15,
   "metadata": {},
   "outputs": [
    {
     "data": {
      "text/plain": [
       "(1, 717)"
      ]
     },
     "execution_count": 15,
     "metadata": {},
     "output_type": "execute_result"
    }
   ],
   "source": [
    "pred_domain_novel_samples.shape"
   ]
  },
  {
   "cell_type": "code",
   "execution_count": 16,
   "metadata": {},
   "outputs": [
    {
     "data": {
      "text/plain": [
       "array([[0.0006, 0.    , 0.0007, 0.    , 0.0022, 0.    , 0.    , 0.    ,\n",
       "        0.    , 0.0001, 0.0003, 0.    , 0.    , 0.0006, 0.002 , 0.    ,\n",
       "        0.0008, 0.    , 0.0007, 0.    , 0.0004, 0.0003, 0.    , 0.0058,\n",
       "        0.0018, 0.    , 0.0003, 0.0003, 0.0016, 0.    , 0.    , 0.0008,\n",
       "        0.0004, 0.0013, 0.0012, 0.0001, 0.0006, 0.0001, 0.0002, 0.    ,\n",
       "        0.0006, 0.0003, 0.    , 0.0003, 0.0023, 0.0007, 0.0001, 0.    ,\n",
       "        0.0004, 0.0001, 0.0004, 0.0021, 0.    , 0.    , 0.    , 0.0003,\n",
       "        0.0015, 0.0002, 0.0007, 0.    , 0.0001, 0.0005, 0.0008, 0.0002,\n",
       "        0.    , 0.    , 0.0004, 0.0032, 0.0002, 0.0002, 0.    , 0.    ,\n",
       "        0.0007, 0.    , 0.0001, 0.0001, 0.0004, 0.    , 0.0008, 0.0003,\n",
       "        0.    , 0.0002, 0.0032, 0.0011, 0.0007, 0.0005, 0.0005, 0.0002,\n",
       "        0.0204, 0.0003, 0.    , 0.0014, 0.0001, 0.0015, 0.0003, 0.0221,\n",
       "        0.    , 0.0019, 0.0006, 0.0004, 0.    , 0.    , 0.0002, 0.0018,\n",
       "        0.0626, 0.0004, 0.    , 0.0004, 0.0003, 0.    , 0.    , 0.0003,\n",
       "        0.    , 0.    , 0.0008, 0.0008, 0.0005, 0.0013, 0.0008, 0.    ,\n",
       "        0.0015, 0.    , 0.    , 0.0003, 0.    , 0.    , 0.    , 0.0009,\n",
       "        0.0011, 0.0003, 0.0008, 0.0003, 0.0003, 0.    , 0.0005, 0.0005,\n",
       "        0.    , 0.0002, 0.0001, 0.    , 0.0013, 0.    , 0.0001, 0.0013,\n",
       "        0.0006, 0.    , 0.0002, 0.0003, 0.0001, 0.0008, 0.    , 0.    ,\n",
       "        0.0004, 0.0003, 0.001 , 0.    , 0.0014, 0.    , 0.    , 0.    ,\n",
       "        0.    , 0.0009, 0.0003, 0.0002, 0.    , 0.0005, 0.0007, 0.0004,\n",
       "        0.    , 0.    , 0.0006, 0.    , 0.    , 0.0004, 0.0018, 0.0001,\n",
       "        0.    , 0.    , 0.    , 0.0003, 0.0002, 0.0008, 0.0005, 0.0023,\n",
       "        0.    , 0.0007, 0.    , 0.0002, 0.0008, 0.0007, 0.0003, 0.    ,\n",
       "        0.    , 0.    , 0.0008, 0.0001, 0.    , 0.    , 0.0004, 0.0002,\n",
       "        0.001 , 0.0003, 0.    , 0.    , 0.    , 0.0004, 0.0003, 0.0003,\n",
       "        0.0001, 0.    , 0.0009, 0.    , 0.0002, 0.001 , 0.0001, 0.0005,\n",
       "        0.3746, 0.0004, 0.    , 0.    , 0.0002, 0.0004, 0.0003, 0.0002,\n",
       "        0.    , 0.    , 0.0001, 0.    , 0.    , 0.    , 0.0003, 0.    ,\n",
       "        0.0014, 0.0037, 0.0001, 0.0003, 0.0002, 0.0005, 0.0014, 0.    ,\n",
       "        0.002 , 0.0004, 0.    , 0.    , 0.    , 0.0004, 0.0001, 0.0003,\n",
       "        0.    , 0.0004, 0.    , 0.0013, 0.0006, 0.0015, 0.0015, 0.    ,\n",
       "        0.0019, 0.0009, 0.0013, 0.0001, 0.0007, 0.0004, 0.0005, 0.    ,\n",
       "        0.0003, 0.0004, 0.0005, 0.0005, 0.0114, 0.    , 0.    , 0.    ,\n",
       "        0.    , 0.0006, 0.0003, 0.0002, 0.    , 0.0007, 0.0003, 0.    ,\n",
       "        0.0011, 0.0004, 0.0001, 0.0001, 0.    , 0.0001, 0.0005, 0.    ,\n",
       "        0.0006, 0.    , 0.0003, 0.    , 0.    , 0.0007, 0.    , 0.0004,\n",
       "        0.0012, 0.0002, 0.0001, 0.0001, 0.0003, 0.    , 0.0008, 0.    ,\n",
       "        0.0003, 0.0009, 0.0026, 0.0002, 0.0003, 0.0055, 0.0008, 0.    ,\n",
       "        0.0001, 0.    , 0.0002, 0.0002, 0.    , 0.0015, 0.    , 0.    ,\n",
       "        0.0004, 0.0013, 0.    , 0.0038, 0.0005, 0.    , 0.0002, 0.    ,\n",
       "        0.0007, 0.0016, 0.    , 0.0014, 0.0003, 0.0002, 0.0002, 0.001 ,\n",
       "        0.0015, 0.0003, 0.0002, 0.0006, 0.0005, 0.001 , 0.0002, 0.    ,\n",
       "        0.    , 0.    , 0.0015, 0.0001, 0.0002, 0.0004, 0.0006, 0.    ,\n",
       "        0.0002, 0.001 , 0.    , 0.0002, 0.0119, 0.0008, 0.0005, 0.0001,\n",
       "        0.    , 0.0001, 0.    , 0.0005, 0.0015, 0.    , 0.0001, 0.0006,\n",
       "        0.    , 0.    , 0.0006, 0.0001, 0.001 , 0.    , 0.0004, 0.0005,\n",
       "        0.    , 0.    , 0.0006, 0.    , 0.    , 0.0004, 0.    , 0.0008,\n",
       "        0.0003, 0.0012, 0.0004, 0.    , 0.0006, 0.0002, 0.    , 0.    ,\n",
       "        0.    , 0.    , 0.0005, 0.0003, 0.0002, 0.0004, 0.    , 0.0001,\n",
       "        0.0002, 0.005 , 0.0003, 0.    , 0.    , 0.0002, 0.    , 0.0001,\n",
       "        0.    , 0.    , 0.0004, 0.0026, 0.0003, 0.    , 0.0004, 0.0009,\n",
       "        0.    , 0.0003, 0.001 , 0.0011, 0.0003, 0.0003, 0.0003, 0.0002,\n",
       "        0.0003, 0.0002, 0.0009, 0.0001, 0.    , 0.    , 0.0014, 0.0001,\n",
       "        0.    , 0.    , 0.    , 0.    , 0.0032, 0.    , 0.0003, 0.    ,\n",
       "        0.0005, 0.0012, 0.    , 0.0004, 0.0002, 0.0001, 0.    , 0.0002,\n",
       "        0.0002, 0.0011, 0.0009, 0.    , 0.    , 0.0003, 0.    , 0.0002,\n",
       "        0.0004, 0.0001, 0.    , 0.    , 0.0014, 0.    , 0.    , 0.0007,\n",
       "        0.0003, 0.    , 0.    , 0.    , 0.0002, 0.0001, 0.0008, 0.    ,\n",
       "        0.    , 0.0002, 0.0014, 0.    , 0.0009, 0.0014, 0.0001, 0.    ,\n",
       "        0.0003, 0.    , 0.    , 0.004 , 0.0002, 0.0003, 0.0001, 0.    ,\n",
       "        0.0001, 0.0001, 0.0004, 0.0005, 0.0002, 0.0005, 0.0002, 0.0065,\n",
       "        0.    , 0.0008, 0.0003, 0.001 , 0.0021, 0.0004, 0.0012, 0.    ,\n",
       "        0.0001, 0.0007, 0.0048, 0.0032, 0.    , 0.0003, 0.0005, 0.0002,\n",
       "        0.0001, 0.0002, 0.    , 0.0009, 0.001 , 0.    , 0.    , 0.0003,\n",
       "        0.    , 0.024 , 0.0002, 0.0005, 0.    , 0.0008, 0.0016, 0.0004,\n",
       "        0.    , 0.    , 0.    , 0.0005, 0.    , 0.0014, 0.0009, 0.0065,\n",
       "        0.0002, 0.012 , 0.0028, 0.0034, 0.0007, 0.    , 0.0002, 0.0015,\n",
       "        0.0002, 0.    , 0.0006, 0.    , 0.0001, 0.    , 0.0003, 0.0001,\n",
       "        0.    , 0.0003, 0.    , 0.    , 0.0004, 0.0005, 0.0012, 0.    ,\n",
       "        0.0033, 0.0014, 0.0002, 0.0001, 0.    , 0.0012, 0.0006, 0.    ,\n",
       "        0.    , 0.0002, 0.    , 0.    , 0.    , 0.0002, 0.0015, 0.    ,\n",
       "        0.0019, 0.0011, 0.    , 0.0008, 0.0001, 0.0006, 0.0029, 0.0003,\n",
       "        0.002 , 0.0004, 0.001 , 0.002 , 0.    , 0.    , 0.0002, 0.    ,\n",
       "        0.001 , 0.0006, 0.    , 0.0003, 0.0004, 0.0002, 0.0043, 0.0005,\n",
       "        0.0011, 0.0002, 0.0018, 0.0011, 0.0005, 0.0002, 0.    , 0.0022,\n",
       "        0.0021, 0.    , 0.0001, 0.0016, 0.0012, 0.0002, 0.01  , 0.    ,\n",
       "        0.0001, 0.    , 0.0009, 0.    , 0.    , 0.0043, 0.    , 0.    ,\n",
       "        0.0012, 0.    , 0.0003, 0.    , 0.    , 0.    , 0.0004, 0.0003,\n",
       "        0.002 , 0.0005, 0.0007, 0.0001, 0.007 , 0.    , 0.0002, 0.0005,\n",
       "        0.    , 0.    , 0.0006, 0.    , 0.0006, 0.    , 0.    , 0.    ,\n",
       "        0.    , 0.0002, 0.    , 0.    , 0.0007, 0.    , 0.0004, 0.    ,\n",
       "        0.0002, 0.0001, 0.0044, 0.0001, 0.0002, 0.0009, 0.    , 0.001 ,\n",
       "        0.    , 0.0006, 0.    , 0.0007, 0.0008, 0.0013, 0.0002, 0.    ,\n",
       "        0.    , 0.0001, 0.001 , 0.0008, 0.    , 0.    , 0.0003, 0.0001,\n",
       "        0.0002, 0.    , 0.0006, 0.    , 0.0003, 0.0004, 0.    , 0.    ,\n",
       "        0.0012, 0.    , 0.    , 0.0001, 0.    , 0.0012, 0.0011, 0.    ,\n",
       "        0.    , 0.    , 0.0029, 0.    , 0.    , 0.0019, 0.    , 0.    ,\n",
       "        0.    , 0.    , 0.0019, 0.0002, 0.0001, 0.0002, 0.0014, 0.0003,\n",
       "        0.0004, 0.0001, 0.    , 0.0939, 0.    ]], dtype=float32)"
      ]
     },
     "execution_count": 16,
     "metadata": {},
     "output_type": "execute_result"
    }
   ],
   "source": [
    "pred_domain_novel_samples"
   ]
  },
  {
   "cell_type": "code",
   "execution_count": 17,
   "metadata": {},
   "outputs": [],
   "source": [
    "### TO-DO: call R script to plot some phylosep plot\n",
    "### To get phyloseq object, taking code from: https://github.com/jorgemf/DeepLatentMicrobiome/blob/master/Src/plot_novel_samples_predictions_radarchart.r\n",
    "#file_tax = '../Datasets/tax_table_all_80_cleanNames.csv'\n",
    "#physeq_pred = build_physeq_object('../Results/otus_predFromDomain_novelSamples_byHandAPIvalues.tsv','../Datasets/metadata_novel_samples_byHandAPIvalues_only3envFeatures.csv',file_tax)\n"
   ]
  },
  {
   "cell_type": "code",
   "execution_count": null,
   "metadata": {},
   "outputs": [],
   "source": []
  },
  {
   "cell_type": "code",
   "execution_count": null,
   "metadata": {},
   "outputs": [],
   "source": []
  }
 ],
 "metadata": {
  "kernelspec": {
   "display_name": "Python 3",
   "language": "python",
   "name": "python3"
  },
  "language_info": {
   "codemirror_mode": {
    "name": "ipython",
    "version": 3
   },
   "file_extension": ".py",
   "mimetype": "text/x-python",
   "name": "python",
   "nbconvert_exporter": "python",
   "pygments_lexer": "ipython3",
   "version": "3.6.9"
  }
 },
 "nbformat": 4,
 "nbformat_minor": 4
}
