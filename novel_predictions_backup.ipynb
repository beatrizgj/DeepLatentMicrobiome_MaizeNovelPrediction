{
 "cells": [
  {
   "cell_type": "markdown",
   "metadata": {},
   "source": [
    "# Prediction of Maize rhizosphere microbiome in novel ecoystems"
   ]
  },
  {
   "cell_type": "code",
   "execution_count": 39,
   "metadata": {},
   "outputs": [],
   "source": [
    "#nbi:hide_in\n",
    "\n",
    "import numpy as np\n",
    "import pandas as pd\n",
    "import tensorflow as tf\n",
    "import tensorflow.keras as keras\n",
    "from tensorflow.keras import layers\n",
    "from ipywidgets import interact, widgets\n",
    "import nbinteract as nbi\n",
    "import rpy2.rinterface"
   ]
  },
  {
   "cell_type": "code",
   "execution_count": 40,
   "metadata": {
    "pycharm": {
     "name": "#%%\n"
    }
   },
   "outputs": [
    {
     "name": "stdout",
     "output_type": "stream",
     "text": [
      "The rpy2.ipython extension is already loaded. To reload it, use:\n",
      "  %reload_ext rpy2.ipython\n"
     ]
    }
   ],
   "source": [
    "#nbi:hide_in\n",
    "np.set_printoptions(precision=4)\n",
    "np.set_printoptions(suppress=True)\n",
    "%reload_ext rpy2.ipython"
   ]
  },
  {
   "cell_type": "markdown",
   "metadata": {},
   "source": [
    "#### Introduce environmental features values"
   ]
  },
  {
   "cell_type": "code",
   "execution_count": 41,
   "metadata": {},
   "outputs": [],
   "source": [
    "#nbi:hide_in\n",
    "# Interface to ask for age, temperature and precipitations3Days (with unit and valid range) \n",
    "# https://ipywidgets.readthedocs.io/en/stable/examples/Widget%20List.html#IntSlider\n",
    "\n",
    "#a = widgets.FloatSlider(min=40,max=100,value=60)\n",
    "#b = widgets.FloatSlider(min=0,max=5,value=1.5)\n",
    "#c = widgets.IntSlider(min=1,max=20,value=4)\n",
    "\n",
    "\n",
    "#accordion = widgets.Accordion(children=[a,b,c])\n",
    "#accordion.set_title(0, 'Temperature (ºF):')\n",
    "#accordion.set_title(1, 'Precipitations 3 days (inches):')\n",
    "#accordion.set_title(2, 'Plant age (weeks):')\n",
    "#accordion\n",
    "\n",
    "##out = widgets.interactive_output(f, {'a': a, 'b': b, 'c': c})\n",
    "\n",
    "#t = widgets.Label(value=\"Please, select the environmental features associated to the maize plant/soil to what you would like to predict its rhizosphere microbiome:\")\n",
    "\n",
    "#widgets.VBox([t, accordion])\n",
    "\n",
    "\n"
   ]
  },
  {
   "cell_type": "code",
   "execution_count": 42,
   "metadata": {},
   "outputs": [
    {
     "data": {
      "application/vnd.jupyter.widget-view+json": {
       "model_id": "429cc4aabaa04cadb41c89ab0b7f81ea",
       "version_major": 2,
       "version_minor": 0
      },
      "text/plain": [
       "VBox(children=(Label(value='Please, select the environmental features associated to the maize plant/soil to'),…"
      ]
     },
     "metadata": {},
     "output_type": "display_data"
    }
   ],
   "source": [
    "#nbi:hide_in\n",
    "a = widgets.FloatSlider(description='Temperature',min=40,max=100,value=60)\n",
    "b = widgets.FloatSlider(description='Rain (3 days)',min=0,max=5,value=1.5)\n",
    "c = widgets.IntSlider(description='Plant age',min=1,max=20,value=4)\n",
    "t1 = widgets.Label(value=\"Please, select the environmental features associated to the maize plant/soil to\") \n",
    "t2 = widgets.Label(value=\"what you would like to predict its rhizosphere microbiome:\")\n",
    "ui = widgets.VBox([t1, t2, a, b, c])\n",
    "\n",
    "display(ui)\n"
   ]
  },
  {
   "cell_type": "code",
   "execution_count": 43,
   "metadata": {},
   "outputs": [],
   "source": [
    "#nbi:hide_in\n",
    "temp=a.value\n",
    "rain=b.value\n",
    "age=c.value"
   ]
  },
  {
   "cell_type": "code",
   "execution_count": 44,
   "metadata": {},
   "outputs": [
    {
     "data": {
      "text/html": [
       "<div>\n",
       "<style scoped>\n",
       "    .dataframe tbody tr th:only-of-type {\n",
       "        vertical-align: middle;\n",
       "    }\n",
       "\n",
       "    .dataframe tbody tr th {\n",
       "        vertical-align: top;\n",
       "    }\n",
       "\n",
       "    .dataframe thead th {\n",
       "        text-align: right;\n",
       "    }\n",
       "</style>\n",
       "<table border=\"1\" class=\"dataframe\">\n",
       "  <thead>\n",
       "    <tr style=\"text-align: right;\">\n",
       "      <th></th>\n",
       "      <th>age</th>\n",
       "      <th>Temperature</th>\n",
       "      <th>Precipitation3Days</th>\n",
       "    </tr>\n",
       "    <tr>\n",
       "      <th>X.SampleID</th>\n",
       "      <th></th>\n",
       "      <th></th>\n",
       "      <th></th>\n",
       "    </tr>\n",
       "  </thead>\n",
       "  <tbody>\n",
       "    <tr>\n",
       "      <th>new01</th>\n",
       "      <td>4</td>\n",
       "      <td>60.0</td>\n",
       "      <td>1.5</td>\n",
       "    </tr>\n",
       "  </tbody>\n",
       "</table>\n",
       "</div>"
      ],
      "text/plain": [
       "            age  Temperature  Precipitation3Days\n",
       "X.SampleID                                      \n",
       "new01         4         60.0                 1.5"
      ]
     },
     "execution_count": 44,
     "metadata": {},
     "output_type": "execute_result"
    }
   ],
   "source": [
    "#nbi:hide_in\n",
    "metadata = pd.DataFrame({'X.SampleID': ['new01'], 'age': [age], 'Temperature': [temp], 'Precipitation3Days':[rain]}, \n",
    "                  columns=['X.SampleID','age','Temperature','Precipitation3Days'])\n",
    "metadata = metadata.set_index('X.SampleID')\n",
    "domain = metadata[['age',\n",
    "                   'Temperature',\n",
    "                   'Precipitation3Days']]\n",
    "domain"
   ]
  },
  {
   "cell_type": "code",
   "execution_count": 45,
   "metadata": {},
   "outputs": [],
   "source": [
    "#nbi:hide_in\n",
    "domain_novel_samples = domain.to_numpy(dtype=np.float32)"
   ]
  },
  {
   "cell_type": "markdown",
   "metadata": {},
   "source": [
    "#### Load model ..."
   ]
  },
  {
   "cell_type": "code",
   "execution_count": 46,
   "metadata": {},
   "outputs": [
    {
     "name": "stdout",
     "output_type": "stream",
     "text": [
      "WARNING:tensorflow:No training configuration found in save file: the model was *not* compiled. Compile it manually.\n"
     ]
    }
   ],
   "source": [
    "#nbi:hide_in\n",
    "decoder = tf.keras.models.load_model('Models/decoder.h5')\n",
    "encoder_domain = tf.keras.models.load_model('Models/encoder_domain_model_latent.h5')"
   ]
  },
  {
   "cell_type": "markdown",
   "metadata": {},
   "source": [
    "#### Compute new predictions ..."
   ]
  },
  {
   "cell_type": "code",
   "execution_count": 47,
   "metadata": {},
   "outputs": [],
   "source": [
    "#nbi:hide_in\n",
    "# Input only domain (i.e. environmental features)\n",
    "pred_latent_novel_samples = encoder_domain.predict(domain_novel_samples)\n",
    "pred_domain_novel_samples = decoder.predict(pred_latent_novel_samples)"
   ]
  },
  {
   "cell_type": "code",
   "execution_count": 48,
   "metadata": {},
   "outputs": [],
   "source": [
    "#nbi:hide_in\n",
    "def save_predicted_otu_table(pred,sample_names,otu_names,suffix=''):\n",
    "    df_otu = pd.DataFrame(pred, index=sample_names, columns=otu_names)\n",
    "    df_otu.T.to_csv('abundances_'+suffix+'.tsv', index=True, header=True, sep='\\t')\n",
    "  \n",
    "    return df_otu"
   ]
  },
  {
   "cell_type": "code",
   "execution_count": 49,
   "metadata": {},
   "outputs": [],
   "source": [
    "#nbi:hide_in\n",
    "# Get otu IDs\n",
    "otu = pd.read_csv('otu_column_otuids.csv', index_col=0, header=None, sep='\\t').T\n",
    "otu = otu.set_index('otuids')\n",
    "otuids = otu.columns"
   ]
  },
  {
   "cell_type": "code",
   "execution_count": 50,
   "metadata": {},
   "outputs": [],
   "source": [
    "#nbi:hide_in\n",
    "df_pred_otu = save_predicted_otu_table(pred_domain_novel_samples,domain.index,otuids,'predicted_otus_novel_features')"
   ]
  },
  {
   "cell_type": "markdown",
   "metadata": {},
   "source": [
    "#### Plot new predictions"
   ]
  },
  {
   "cell_type": "code",
   "execution_count": 53,
   "metadata": {},
   "outputs": [],
   "source": [
    "%Rpush temp rain age\n",
    "#nbi:hide_in"
   ]
  },
  {
   "cell_type": "code",
   "execution_count": 54,
   "metadata": {},
   "outputs": [
    {
     "data": {
      "image/png": "[encoded data removed]"
     },
     "metadata": {},
     "output_type": "display_data"
    }
   ],
   "source": [
    "%%R\n",
    "source('Src/functionsR_plotMicrobiome.r')\n",
    "physeq_pred = build_physeq_object_otu_tax('abundances_predicted_otus_novel_features.tsv','tax_table_cleanNames.csv')\n",
    "plot_taxa_agg(physeq_pred,\"Class\",temp,rain,age)"
   ]
  },
  {
   "cell_type": "code",
   "execution_count": null,
   "metadata": {},
   "outputs": [],
   "source": []
  }
 ],
 "metadata": {
  "kernelspec": {
   "display_name": "Python 3",
   "language": "python",
   "name": "python3"
  },
  "language_info": {
   "codemirror_mode": {
    "name": "ipython",
    "version": 3
   },
   "file_extension": ".py",
   "mimetype": "text/x-python",
   "name": "python",
   "nbconvert_exporter": "python",
   "pygments_lexer": "ipython3",
   "version": "3.6.9"
  }
 },
 "nbformat": 4,
 "nbformat_minor": 4
}
